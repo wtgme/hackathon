{
 "cells": [
  {
   "cell_type": "code",
   "execution_count": 176,
   "id": "18843706-a2c1-48ed-9c9e-e957c08a8b35",
   "metadata": {},
   "outputs": [],
   "source": [
    "# %pip install --quiet --upgrade langchain-text-splitters langchain-community langgraph"
   ]
  },
  {
   "cell_type": "code",
   "execution_count": 177,
   "id": "d1a790ea-ee0c-46db-b704-fc14f956de62",
   "metadata": {},
   "outputs": [],
   "source": [
    "# %pip install -qU langchain-openai"
   ]
  },
  {
   "cell_type": "code",
   "execution_count": null,
   "id": "b4404ec7-f7c6-46fd-bc57-8c7123e7b53e",
   "metadata": {},
   "outputs": [],
   "source": [
    "# %pip install langchain-chroma\n",
    "# ollama serve\n",
    "# ollama run thewindmom/llama3-med42-8b\n",
    "# ollama run llama3.2"
   ]
  },
  {
   "cell_type": "code",
   "execution_count": 179,
   "id": "e46970e4-b821-4081-aaa9-400b151bb7be",
   "metadata": {},
   "outputs": [],
   "source": [
    "import pandas as pd\n",
    "from openai import OpenAI"
   ]
  },
  {
   "cell_type": "code",
   "execution_count": 180,
   "id": "8126aff7-4249-4aa2-b558-89e92036f75f",
   "metadata": {},
   "outputs": [],
   "source": [
    "import getpass\n",
    "import os\n",
    "\n",
    "os.environ[\"LANGSMITH_TRACING\"] = \"true\"\n",
    "# os.environ[\"LANGSMITH_API_KEY\"] = getpass.getpass()"
   ]
  },
  {
   "cell_type": "markdown",
   "id": "22505979-1445-42a0-84e2-f53664a58137",
   "metadata": {},
   "source": [
    "## Load mimic data"
   ]
  },
  {
   "cell_type": "code",
   "execution_count": 213,
   "id": "e1c3519c-c6e9-4319-81ad-251da60bc1a7",
   "metadata": {},
   "outputs": [
    {
     "name": "stderr",
     "output_type": "stream",
     "text": [
      "/tmp/ipykernel_1824013/170795652.py:1: DtypeWarning: Columns (10,11) have mixed types. Specify dtype option on import or set low_memory=False.\n",
      "  notes = pd.read_csv('data/cvd_note.csv')\n"
     ]
    }
   ],
   "source": [
    "notes = pd.read_csv('data/cvd_note.csv')"
   ]
  },
  {
   "cell_type": "code",
   "execution_count": 256,
   "id": "bdd79f02-f3ab-4b16-9adc-57455c122cf9",
   "metadata": {},
   "outputs": [],
   "source": [
    "# notes.sample(3)"
   ]
  },
  {
   "cell_type": "code",
   "execution_count": 257,
   "id": "252e0ad4-cfb4-405f-8dec-8934037cd241",
   "metadata": {},
   "outputs": [],
   "source": [
    "# notes['category'].unique().tolist()"
   ]
  },
  {
   "cell_type": "code",
   "execution_count": 221,
   "id": "ec3302ee-fc08-4c22-aead-7cc319848fc4",
   "metadata": {},
   "outputs": [],
   "source": [
    "# pid = [55730, ]\n",
    "# docs = notes.loc[notes['subject_id']==pid]\n",
    "docs = notes.loc[notes['category']=='Discharge summary']"
   ]
  },
  {
   "cell_type": "code",
   "execution_count": 222,
   "id": "42c43468-86e4-41c8-b534-dec9cf907901",
   "metadata": {},
   "outputs": [
    {
     "data": {
      "text/plain": [
       "(11717, 17)"
      ]
     },
     "execution_count": 222,
     "metadata": {},
     "output_type": "execute_result"
    }
   ],
   "source": [
    "docs.shape"
   ]
  },
  {
   "cell_type": "code",
   "execution_count": 223,
   "id": "52e26ced-00a3-434c-8718-504677a588bd",
   "metadata": {},
   "outputs": [],
   "source": [
    "docs.to_csv('data/cvd_note_dissum.csv')"
   ]
  },
  {
   "cell_type": "code",
   "execution_count": 229,
   "id": "82f13689-b333-4577-bc26-a63b331276fc",
   "metadata": {},
   "outputs": [],
   "source": [
    "from langchain import hub\n",
    "from langchain_chroma import Chroma\n",
    "from langchain_community.document_loaders.csv_loader import CSVLoader\n",
    "from langchain_core.output_parsers import StrOutputParser\n",
    "from langchain_core.runnables import RunnablePassthrough\n",
    "from langchain_openai import OpenAIEmbeddings\n",
    "from langchain_core.prompts import PromptTemplate\n",
    "from langchain_text_splitters import RecursiveCharacterTextSplitter"
   ]
  },
  {
   "cell_type": "code",
   "execution_count": 230,
   "id": "89c4a369-cc66-4700-ae74-d21ef2a8ba42",
   "metadata": {},
   "outputs": [],
   "source": [
    "loader = CSVLoader(file_path='data/cvd_note_sample.csv',\n",
    "    csv_args={\n",
    "    # 'delimiter': ',',\n",
    "    # 'quotechar': '\"',\n",
    "    'fieldnames': ['subject_id', 'text']\n",
    "}\n",
    "    )"
   ]
  },
  {
   "cell_type": "code",
   "execution_count": 231,
   "id": "5dd2f8f8-09b5-4b67-84ad-7bfe618ea110",
   "metadata": {},
   "outputs": [],
   "source": [
    "docs = loader.load()"
   ]
  },
  {
   "cell_type": "code",
   "execution_count": 232,
   "id": "df99d87f-6dbb-4a79-b311-8757992a0005",
   "metadata": {},
   "outputs": [],
   "source": [
    "embeddings = OllamaEmbeddings(model=\"llama3.2\")\n",
    "llm = OllamaLLM(model=\"llama3.2\")"
   ]
  },
  {
   "cell_type": "code",
   "execution_count": 235,
   "id": "01309131-9ab6-4c64-a2b2-a87ab7b8e35d",
   "metadata": {},
   "outputs": [],
   "source": [
    "text_splitter = RecursiveCharacterTextSplitter(chunk_size=1000, chunk_overlap=200)\n",
    "splits = text_splitter.split_documents(docs)\n",
    "vectorstore = Chroma.from_documents(documents=splits, embedding=embeddings)\n",
    "# vectordb.persist()\n",
    "# Retrieve and generate using the relevant snippets of the blog.\n",
    "retriever = vectorstore.as_retriever()"
   ]
  },
  {
   "cell_type": "code",
   "execution_count": null,
   "id": "f0ed3cdf-d322-4b87-84b8-2fe06413b380",
   "metadata": {},
   "outputs": [],
   "source": [
    "# vectordb = Chroma(persist_directory='data/mimic_embs', embedding_function=embeddings)"
   ]
  },
  {
   "cell_type": "code",
   "execution_count": 236,
   "id": "d317d215-4137-4caf-9593-3215c83ebd28",
   "metadata": {},
   "outputs": [],
   "source": [
    "prompt = hub.pull(\"rlm/rag-prompt\")\n",
    "# prompt = PromptTemplate.from_template(\"{context}\\n\\nQuestion: {question}\")\n",
    "\n",
    "def format_docs(docs):\n",
    "    return \"\\n\\n\".join(doc.page_content for doc in docs)\n",
    "\n",
    "rag_chain = (\n",
    "    {\"context\": retriever | format_docs, \"question\": RunnablePassthrough()}\n",
    "    | prompt\n",
    "    | llm\n",
    "    | StrOutputParser()\n",
    ")\n",
    "\n"
   ]
  },
  {
   "cell_type": "code",
   "execution_count": 255,
   "id": "32f468c9-2a19-4741-919d-3b8e59216313",
   "metadata": {},
   "outputs": [],
   "source": [
    "# import langchain\n",
    "# langchain.debug = True"
   ]
  },
  {
   "cell_type": "code",
   "execution_count": 254,
   "id": "82d7772e-2d87-4856-b895-6e83a0bf46a8",
   "metadata": {},
   "outputs": [
    {
     "name": "stdout",
     "output_type": "stream",
     "text": [
      "4\n"
     ]
    }
   ],
   "source": [
    "q = \"What diagnosis did this patient has?\"\n",
    "retrieved_docs = retriever.invoke(q )\n",
    "\n",
    "print(len(retrieved_docs))\n",
    "\n",
    "context = \"\\n\\n\".join(doc.page_content for doc in retrieved_docs)"
   ]
  },
  {
   "cell_type": "code",
   "execution_count": 250,
   "id": "976d162c-7fc5-423c-8f46-9aaf21329dcd",
   "metadata": {},
   "outputs": [
    {
     "name": "stdout",
     "output_type": "stream",
     "text": [
      "\u001b[32;1m\u001b[1;3m[chain/start]\u001b[0m \u001b[1m[prompt:ChatPromptTemplate] Entering Prompt run with input:\n",
      "\u001b[0m{\n",
      "  \"context\": \"Findings were discussed with [**Doctor First Name 4647**] [**Doctor Last Name 4356**] in person at 10:50 a.m. on\\n [**2113-4-5**].\\n\\nFindings were discussed with [**Doctor First Name 4647**] [**Doctor Last Name 4356**] in person at 10:50 a.m. on\\n [**2113-4-5**].\\n\\nIMPRESSION:\\n\\n1. In comparison to [**2113-4-11**] exam, there is mild interval\\nincrease in the\\nsize of ventricles. A small amount of blood layering in\\noccipital horns of\\nthe lateral ventricles persists. There is no new intracranial\\nhemorrhage or infarction.\\n\\n2. Vasospasm involving the basilar artery, middle and anterior\\ncerebral\\narteries appears resolved from prior exam. However, moderate\\nleft posterior cerebral artery narrowing persists.\\n\\n3. Residual filling of the coiled left PICA aneurysm measures\\n2.7 mm.\\n\\n4. Stable appearance of the right cerebellar AVM.\\n\\n5. Sinus disease, as detailed above.\\n\\nThe study and the report were reviewed by the staff radiologist.\\n\\n2.  Ventriculostomy tube remains the left frontal [**Doctor Last Name 383**], but slightly pulled\\n back.\\n\\n 3.  Interval coiling of the known right PICA aneurysm.\\n\\n Dr. [**First Name8 (NamePattern2) 713**] [**Last Name (NamePattern1) 714**] has discussed the findings with the interventional\\n neuroradiology attending, Dr. [**First Name8 (NamePattern2) **] [**Name (STitle) **] in the [**First Name8 (NamePattern2) **] [**Location (un) 600**] room, shortly\\n                                                             (Over)\\n\\n [**2113-3-30**] 1:02 AM\\n CT HEAD W/O CONTRAST                                            Clip # [**Clip Number (Radiology) 13852**]\\n Reason: eval interval change\\n Admitting Diagnosis: SUBARACHNOID HEMORRHAGE;ANEURYSM\\n ______________________________________________________________________________\\n                                 FINAL REPORT\\n (Cont)\\n after the completion of the exam.\",\n",
      "  \"question\": \"What diagnosis did this patient has?\"\n",
      "}\n",
      "\u001b[36;1m\u001b[1;3m[chain/end]\u001b[0m \u001b[1m[prompt:ChatPromptTemplate] [3ms] Exiting Prompt run with output:\n",
      "\u001b[0m[outputs]\n"
     ]
    },
    {
     "data": {
      "text/plain": [
       "[HumanMessage(content=\"You are an assistant for question-answering tasks. Use the following pieces of retrieved context to answer the question. If you don't know the answer, just say that you don't know. Use three sentences maximum and keep the answer concise.\\nQuestion: What diagnosis did this patient has? \\nContext: Findings were discussed with [**Doctor First Name 4647**] [**Doctor Last Name 4356**] in person at 10:50 a.m. on\\n [**2113-4-5**].\\n\\nFindings were discussed with [**Doctor First Name 4647**] [**Doctor Last Name 4356**] in person at 10:50 a.m. on\\n [**2113-4-5**].\\n\\nIMPRESSION:\\n\\n1. In comparison to [**2113-4-11**] exam, there is mild interval\\nincrease in the\\nsize of ventricles. A small amount of blood layering in\\noccipital horns of\\nthe lateral ventricles persists. There is no new intracranial\\nhemorrhage or infarction.\\n\\n2. Vasospasm involving the basilar artery, middle and anterior\\ncerebral\\narteries appears resolved from prior exam. However, moderate\\nleft posterior cerebral artery narrowing persists.\\n\\n3. Residual filling of the coiled left PICA aneurysm measures\\n2.7 mm.\\n\\n4. Stable appearance of the right cerebellar AVM.\\n\\n5. Sinus disease, as detailed above.\\n\\nThe study and the report were reviewed by the staff radiologist.\\n\\n2.  Ventriculostomy tube remains the left frontal [**Doctor Last Name 383**], but slightly pulled\\n back.\\n\\n 3.  Interval coiling of the known right PICA aneurysm.\\n\\n Dr. [**First Name8 (NamePattern2) 713**] [**Last Name (NamePattern1) 714**] has discussed the findings with the interventional\\n neuroradiology attending, Dr. [**First Name8 (NamePattern2) **] [**Name (STitle) **] in the [**First Name8 (NamePattern2) **] [**Location (un) 600**] room, shortly\\n                                                             (Over)\\n\\n [**2113-3-30**] 1:02 AM\\n CT HEAD W/O CONTRAST                                            Clip # [**Clip Number (Radiology) 13852**]\\n Reason: eval interval change\\n Admitting Diagnosis: SUBARACHNOID HEMORRHAGE;ANEURYSM\\n ______________________________________________________________________________\\n                                 FINAL REPORT\\n (Cont)\\n after the completion of the exam. \\nAnswer:\", additional_kwargs={}, response_metadata={})]"
      ]
     },
     "execution_count": 250,
     "metadata": {},
     "output_type": "execute_result"
    }
   ],
   "source": [
    "prompt = hub.pull(\"rlm/rag-prompt\")\n",
    "\n",
    "example_messages = prompt.invoke(\n",
    "    {\"context\": context, \"question\": q}\n",
    ").to_messages()\n",
    "\n",
    "example_messages"
   ]
  },
  {
   "cell_type": "code",
   "execution_count": 237,
   "id": "16172323-653b-414d-b8fd-efb3bde8139b",
   "metadata": {},
   "outputs": [
    {
     "data": {
      "text/plain": [
       "\"I don't know the answer to this question as the provided context does not explicitly mention a diagnosis for the patient. However, it mentions an admitting diagnosis of Subarachnoid Hemorrhage and Aneurysm.\""
      ]
     },
     "execution_count": 237,
     "metadata": {},
     "output_type": "execute_result"
    }
   ],
   "source": [
    "rag_chain.invoke(\"What diagnosis did this patient has?\")"
   ]
  },
  {
   "cell_type": "code",
   "execution_count": null,
   "id": "fb90da5b-67c7-4db7-b10b-faf023beffa1",
   "metadata": {},
   "outputs": [],
   "source": []
  },
  {
   "cell_type": "code",
   "execution_count": 191,
   "id": "97f7054d-c58c-4f36-8928-51f50a215308",
   "metadata": {},
   "outputs": [
    {
     "data": {
      "text/plain": [
       "\"I don't know the specific diagnosis, but according to the findings and report, the patient has SUBARACHNOID HEMORRHAGE; ANEURYSM. The admitting diagnosis is listed as Subarachnoid Hemorrhage with an associated aneurysm.\""
      ]
     },
     "execution_count": 191,
     "metadata": {},
     "output_type": "execute_result"
    }
   ],
   "source": [
    "rag_chain.invoke(\"What diagnosis did patient with subject_id of 55730 has?\")"
   ]
  },
  {
   "cell_type": "code",
   "execution_count": 192,
   "id": "bbd81dab-15aa-4923-b669-2c18bb3347a0",
   "metadata": {},
   "outputs": [
    {
     "data": {
      "text/plain": [
       "\"I don't know what specific medications this patient took, as the provided context does not mention any medication information.\""
      ]
     },
     "execution_count": 192,
     "metadata": {},
     "output_type": "execute_result"
    }
   ],
   "source": [
    "rag_chain.invoke(\"What drugs did this patient take?\")"
   ]
  },
  {
   "cell_type": "code",
   "execution_count": null,
   "id": "5e0a424d-56f3-4d59-9ddb-0f8202dd09af",
   "metadata": {},
   "outputs": [],
   "source": []
  },
  {
   "cell_type": "code",
   "execution_count": 201,
   "id": "d9e05a80-e2e6-4a95-8cf8-8b5e06dacb07",
   "metadata": {},
   "outputs": [
    {
     "data": {
      "text/plain": [
       "\"I don't know the gender of this patient. The context provides information about a medical examination, but it does not specify the patient's gender.\""
      ]
     },
     "execution_count": 201,
     "metadata": {},
     "output_type": "execute_result"
    }
   ],
   "source": [
    "rag_chain.invoke(\"what is the gender of this patient?\")"
   ]
  },
  {
   "cell_type": "code",
   "execution_count": 193,
   "id": "ee07ae1a-af76-4708-9d3c-18f301b32223",
   "metadata": {},
   "outputs": [
    {
     "data": {
      "text/plain": [
       "\"I don't know the patient's age from the provided context. The mention of a 62-year-old man with SAH is in a separate section and may not be related to the current examination. There is no direct information about the patient's age during this examination.\""
      ]
     },
     "execution_count": 193,
     "metadata": {},
     "output_type": "execute_result"
    }
   ],
   "source": [
    "rag_chain.invoke(\"how old is this patient?\")"
   ]
  },
  {
   "cell_type": "code",
   "execution_count": null,
   "id": "4621a97a-725b-4a65-8f2b-4f1295429f56",
   "metadata": {},
   "outputs": [],
   "source": []
  },
  {
   "cell_type": "code",
   "execution_count": 195,
   "id": "80491b83-ccac-4a80-8498-cb918aba6c2b",
   "metadata": {},
   "outputs": [
    {
     "data": {
      "text/plain": [
       "\"I don't know the patient's medical history beyond what was mentioned about the fever after subarachnoid hemorrhage and suspected pneumonia. There is no comprehensive description of the patient's overall medical history, past illnesses, or previous treatments. Further context would be needed to provide a more detailed answer.\""
      ]
     },
     "execution_count": 195,
     "metadata": {},
     "output_type": "execute_result"
    }
   ],
   "source": [
    "rag_chain.invoke(\"tell me about this patient's medical history?\")"
   ]
  },
  {
   "cell_type": "code",
   "execution_count": 158,
   "id": "b131c586-25a7-4aac-874e-2aa0c80a33a2",
   "metadata": {},
   "outputs": [],
   "source": [
    "samples = pd.read_csv('data/cvd_note_sample.csv')"
   ]
  },
  {
   "cell_type": "code",
   "execution_count": 251,
   "id": "6d2683f1-7a8d-43ff-8f2d-d321469cb933",
   "metadata": {},
   "outputs": [],
   "source": [
    "# samples.loc[samples['text'].str.contains('SUBARACHNOID HEMORRHAGE')]"
   ]
  },
  {
   "cell_type": "code",
   "execution_count": 252,
   "id": "983f7cac-94d9-40db-ad69-46fa9035530e",
   "metadata": {},
   "outputs": [],
   "source": [
    "# samples.loc[samples['text'].str.contains('62-year-old')]"
   ]
  },
  {
   "cell_type": "code",
   "execution_count": 253,
   "id": "bc4d9cce-6247-4148-b21d-498ac8b9a31a",
   "metadata": {},
   "outputs": [],
   "source": [
    "# samples.iloc[0]['text']"
   ]
  },
  {
   "cell_type": "code",
   "execution_count": null,
   "id": "c7938d48-19fd-426f-966b-fd04d992dfe4",
   "metadata": {},
   "outputs": [],
   "source": []
  },
  {
   "cell_type": "code",
   "execution_count": null,
   "id": "ff65a282-9f6f-46de-8c10-b686ad29dca5",
   "metadata": {},
   "outputs": [],
   "source": []
  },
  {
   "cell_type": "code",
   "execution_count": 263,
   "id": "20448c80-6f44-4787-9ec6-0d8a0da34cb5",
   "metadata": {},
   "outputs": [],
   "source": [
    "import pickle, json"
   ]
  },
  {
   "cell_type": "code",
   "execution_count": 259,
   "id": "3e7c56ed-b12e-4641-8f28-bbcb3ab83921",
   "metadata": {},
   "outputs": [],
   "source": [
    "with open(\"rag_results.pkl\", \"rb\") as file:\n",
    "    results = pickle.load(file)"
   ]
  },
  {
   "cell_type": "code",
   "execution_count": 269,
   "id": "b28fe718-0589-43ae-9ab5-4be31fd7bc0c",
   "metadata": {},
   "outputs": [
    {
     "data": {
      "text/plain": [
       "3770"
      ]
     },
     "execution_count": 269,
     "metadata": {},
     "output_type": "execute_result"
    }
   ],
   "source": [
    "len(results)"
   ]
  },
  {
   "cell_type": "code",
   "execution_count": 270,
   "id": "7d479d7e-8aa6-4872-9170-549bb3d9d97b",
   "metadata": {},
   "outputs": [],
   "source": [
    "dat = {}\n",
    "for k in results.keys():\n",
    "    v = results[k]\n",
    "    sysm = dat.get(v['medication'], {})\n",
    "    pids = sysm.get(v['symptom'], {})\n",
    "    pid = (v['PMID'])\n",
    "    if pid.isdigit():\n",
    "        pids[\"PubMed ID: \"+str(pid)] = v['evidence'] + f\" https://pubmed.ncbi.nlm.nih.gov/{pid}/\"\n",
    "    else:\n",
    "        pids[pid] = v['evidence']\n",
    "    sysm[v['symptom']] = pids\n",
    "    dat[v['medication']] = sysm"
   ]
  },
  {
   "cell_type": "code",
   "execution_count": 271,
   "id": "7c16a1f7-db4b-4bd4-bc5f-fe89459463f6",
   "metadata": {},
   "outputs": [],
   "source": [
    "with open(\"rag-data-url.json\", \"w\") as file:\n",
    "    json.dump(dat, file, indent=4)  # Save JSON to a file"
   ]
  },
  {
   "cell_type": "code",
   "execution_count": null,
   "id": "2cd1667b-2ed2-4467-9188-4b85a3f0d4bc",
   "metadata": {},
   "outputs": [],
   "source": []
  }
 ],
 "metadata": {
  "kernelspec": {
   "display_name": "Python [conda env:.conda-vllmenv]",
   "language": "python",
   "name": "conda-env-.conda-vllmenv-py"
  },
  "language_info": {
   "codemirror_mode": {
    "name": "ipython",
    "version": 3
   },
   "file_extension": ".py",
   "mimetype": "text/x-python",
   "name": "python",
   "nbconvert_exporter": "python",
   "pygments_lexer": "ipython3",
   "version": "3.12.8"
  }
 },
 "nbformat": 4,
 "nbformat_minor": 5
}
