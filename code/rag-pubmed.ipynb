{
 "cells": [
  {
   "cell_type": "code",
   "execution_count": 348,
   "id": "18843706-a2c1-48ed-9c9e-e957c08a8b35",
   "metadata": {},
   "outputs": [],
   "source": [
    "# %pip install --quiet --upgrade langchain-text-splitters langchain-community langgraph"
   ]
  },
  {
   "cell_type": "code",
   "execution_count": 1,
   "id": "d1a790ea-ee0c-46db-b704-fc14f956de62",
   "metadata": {},
   "outputs": [],
   "source": [
    "# %pip install -qU langchain-openai"
   ]
  },
  {
   "cell_type": "code",
   "execution_count": 2,
   "id": "b4404ec7-f7c6-46fd-bc57-8c7123e7b53e",
   "metadata": {},
   "outputs": [],
   "source": [
    "# %pip install langchain-chroma\n",
    "# ollama serve\n",
    "# ollama run thewindmom/llama3-med42-8b\n",
    "# ollama run llama3.2"
   ]
  },
  {
   "cell_type": "code",
   "execution_count": 2,
   "id": "e46970e4-b821-4081-aaa9-400b151bb7be",
   "metadata": {},
   "outputs": [],
   "source": [
    "import pandas as pd\n",
    "from openai import OpenAI\n",
    "import re"
   ]
  },
  {
   "cell_type": "code",
   "execution_count": 3,
   "id": "8126aff7-4249-4aa2-b558-89e92036f75f",
   "metadata": {},
   "outputs": [
    {
     "name": "stdin",
     "output_type": "stream",
     "text": [
      " ········\n"
     ]
    }
   ],
   "source": [
    "import getpass\n",
    "import os\n",
    "import json\n",
    "os.environ[\"LANGSMITH_TRACING\"] = \"true\"\n",
    "os.environ[\"LANGSMITH_API_KEY\"] = getpass.getpass()"
   ]
  },
  {
   "cell_type": "code",
   "execution_count": 8,
   "id": "e68763c1-45b5-4797-be36-2da0c59da10d",
   "metadata": {},
   "outputs": [],
   "source": [
    "ner = pd.read_csv('data/ner_test_flat.tsv')"
   ]
  },
  {
   "cell_type": "code",
   "execution_count": 9,
   "id": "565b2671-caf5-40d8-9da9-92ab68639a0d",
   "metadata": {},
   "outputs": [
    {
     "data": {
      "text/plain": [
       "(1992, 4)"
      ]
     },
     "execution_count": 9,
     "metadata": {},
     "output_type": "execute_result"
    }
   ],
   "source": [
    "ner.shape"
   ]
  },
  {
   "cell_type": "code",
   "execution_count": 10,
   "id": "9b6e5c6f-7189-4a09-add8-832fde9ae25f",
   "metadata": {},
   "outputs": [
    {
     "data": {
      "text/html": [
       "<div>\n",
       "<style scoped>\n",
       "    .dataframe tbody tr th:only-of-type {\n",
       "        vertical-align: middle;\n",
       "    }\n",
       "\n",
       "    .dataframe tbody tr th {\n",
       "        vertical-align: top;\n",
       "    }\n",
       "\n",
       "    .dataframe thead th {\n",
       "        text-align: right;\n",
       "    }\n",
       "</style>\n",
       "<table border=\"1\" class=\"dataframe\">\n",
       "  <thead>\n",
       "    <tr style=\"text-align: right;\">\n",
       "      <th></th>\n",
       "      <th>note_ID</th>\n",
       "      <th>text</th>\n",
       "      <th>ner_text</th>\n",
       "      <th>ner_type</th>\n",
       "    </tr>\n",
       "  </thead>\n",
       "  <tbody>\n",
       "    <tr>\n",
       "      <th>912</th>\n",
       "      <td>59</td>\n",
       "      <td>History of Present Illness: 57-year-old male w...</td>\n",
       "      <td>aspirin</td>\n",
       "      <td>medication</td>\n",
       "    </tr>\n",
       "    <tr>\n",
       "      <th>1713</th>\n",
       "      <td>84</td>\n",
       "      <td>History of Present Illness: Mr. [  Known lastn...</td>\n",
       "      <td>albuterol</td>\n",
       "      <td>medication</td>\n",
       "    </tr>\n",
       "    <tr>\n",
       "      <th>311</th>\n",
       "      <td>23</td>\n",
       "      <td>History of Present Illness: 65 year-old gentle...</td>\n",
       "      <td>haloperidol lactate</td>\n",
       "      <td>medication</td>\n",
       "    </tr>\n",
       "  </tbody>\n",
       "</table>\n",
       "</div>"
      ],
      "text/plain": [
       "      note_ID                                               text  \\\n",
       "912        59  History of Present Illness: 57-year-old male w...   \n",
       "1713       84  History of Present Illness: Mr. [  Known lastn...   \n",
       "311        23  History of Present Illness: 65 year-old gentle...   \n",
       "\n",
       "                 ner_text    ner_type  \n",
       "912               aspirin  medication  \n",
       "1713            albuterol  medication  \n",
       "311   haloperidol lactate  medication  "
      ]
     },
     "execution_count": 10,
     "metadata": {},
     "output_type": "execute_result"
    }
   ],
   "source": [
    "ner.sample(3)"
   ]
  },
  {
   "cell_type": "code",
   "execution_count": 11,
   "id": "e967c193-5916-401b-9bdc-36304df1d09b",
   "metadata": {
    "scrolled": true
   },
   "outputs": [],
   "source": [
    "sym_med = []\n",
    "for i in ner['note_ID']:\n",
    "    symptoms = ner[(ner['note_ID']==i) & (ner['ner_type']=='symptom')]['ner_text']\n",
    "    medications = ner[(ner['note_ID']==i) & (ner['ner_type']=='medication')]['ner_text']\n",
    "    for m in medications:\n",
    "        for s in symptoms:\n",
    "            sym_med.append((s, m))"
   ]
  },
  {
   "cell_type": "code",
   "execution_count": 12,
   "id": "c40e51fc-f527-4e3c-940c-ba2cdc02fcc2",
   "metadata": {},
   "outputs": [],
   "source": [
    "sym_med = list(set(sym_med))"
   ]
  },
  {
   "cell_type": "code",
   "execution_count": 13,
   "id": "ae9d7142-920b-4894-b5aa-252f9a132517",
   "metadata": {},
   "outputs": [
    {
     "data": {
      "text/plain": [
       "3770"
      ]
     },
     "execution_count": 13,
     "metadata": {},
     "output_type": "execute_result"
    }
   ],
   "source": [
    "len(sym_med)"
   ]
  },
  {
   "cell_type": "code",
   "execution_count": 14,
   "id": "a945b39c-ad92-4332-8764-80d03f0067e0",
   "metadata": {},
   "outputs": [],
   "source": [
    "meds = ner[ner['ner_type']=='medication']['ner_text'].value_counts().head(10).index.tolist()"
   ]
  },
  {
   "cell_type": "code",
   "execution_count": 15,
   "id": "3b52ccac-2694-4ab3-8910-b7a982e8b26a",
   "metadata": {},
   "outputs": [],
   "source": [
    "sysm = ner[ner['ner_type']=='symptom']['ner_text'].value_counts().head(10).index.tolist()"
   ]
  },
  {
   "cell_type": "code",
   "execution_count": 16,
   "id": "e313112c-d8b1-4f6a-b7f9-c9409eb27ed3",
   "metadata": {},
   "outputs": [],
   "source": [
    "# meds+sysm"
   ]
  },
  {
   "cell_type": "code",
   "execution_count": 17,
   "id": "b980009a-4366-49f6-b0ff-0ab0bd9644ee",
   "metadata": {},
   "outputs": [],
   "source": [
    "# entities = ner['ner_text'].unique()"
   ]
  },
  {
   "cell_type": "code",
   "execution_count": 18,
   "id": "826fa29c-a4c5-4730-a3aa-00a097c23805",
   "metadata": {},
   "outputs": [],
   "source": [
    "# len(entities)"
   ]
  },
  {
   "cell_type": "code",
   "execution_count": 19,
   "id": "1b69be73-c4ad-4aae-84b5-8fcbbf6b0704",
   "metadata": {},
   "outputs": [],
   "source": [
    "ents = meds+sysm"
   ]
  },
  {
   "cell_type": "code",
   "execution_count": 20,
   "id": "4c2857c7-ce44-4c7b-a627-8d9962c690e6",
   "metadata": {},
   "outputs": [
    {
     "data": {
      "text/plain": [
       "['aspirin',\n",
       " 'coumadin',\n",
       " 'warfarin',\n",
       " 'docusate sodium',\n",
       " 'methadone',\n",
       " 'tizanidine',\n",
       " 'senna',\n",
       " 'simvastatin',\n",
       " 'omeprazole',\n",
       " 'nitroglycerin',\n",
       " 'chest pain',\n",
       " 'fever',\n",
       " 'shortness of breath',\n",
       " 'sob',\n",
       " 'orthopnea',\n",
       " 'dysuria',\n",
       " 'headache',\n",
       " 'diarrhea',\n",
       " 'cough',\n",
       " 'constipation']"
      ]
     },
     "execution_count": 20,
     "metadata": {},
     "output_type": "execute_result"
    }
   ],
   "source": [
    "ents"
   ]
  },
  {
   "cell_type": "code",
   "execution_count": 21,
   "id": "5703e13f-3281-4185-a8e9-124ca981d547",
   "metadata": {},
   "outputs": [],
   "source": [
    "ner_pair = pd.read_csv('data/ner_test.csv')"
   ]
  },
  {
   "cell_type": "code",
   "execution_count": 22,
   "id": "1d4409d1-5397-4363-9473-da658ce2084d",
   "metadata": {},
   "outputs": [
    {
     "data": {
      "text/html": [
       "<div>\n",
       "<style scoped>\n",
       "    .dataframe tbody tr th:only-of-type {\n",
       "        vertical-align: middle;\n",
       "    }\n",
       "\n",
       "    .dataframe tbody tr th {\n",
       "        vertical-align: top;\n",
       "    }\n",
       "\n",
       "    .dataframe thead th {\n",
       "        text-align: right;\n",
       "    }\n",
       "</style>\n",
       "<table border=\"1\" class=\"dataframe\">\n",
       "  <thead>\n",
       "    <tr style=\"text-align: right;\">\n",
       "      <th></th>\n",
       "      <th>note_ID</th>\n",
       "      <th>text</th>\n",
       "      <th>symptoms</th>\n",
       "      <th>medications</th>\n",
       "    </tr>\n",
       "  </thead>\n",
       "  <tbody>\n",
       "    <tr>\n",
       "      <th>0</th>\n",
       "      <td>1</td>\n",
       "      <td>History of Present Illness:\\n41 y/o M w/ h/o H...</td>\n",
       "      <td>{'myalgias', 'hemoptysis', 'calf pain', 'tachy...</td>\n",
       "      <td>{'morphine', 'cefazolin', 'prilosec', 'senna',...</td>\n",
       "    </tr>\n",
       "    <tr>\n",
       "      <th>1</th>\n",
       "      <td>8</td>\n",
       "      <td>History of Present Illness:\\n64 y/o male w/kno...</td>\n",
       "      <td>{'pain'}</td>\n",
       "      <td>{'ranitidine hcl', 'aspirin', 'lipitor', 'ibup...</td>\n",
       "    </tr>\n",
       "    <tr>\n",
       "      <th>2</th>\n",
       "      <td>9</td>\n",
       "      <td>History of Present Illness:\\nIn brief, this is...</td>\n",
       "      <td>{'tachycardic', 'myoclonic seizures', 'aphasic...</td>\n",
       "      <td>{'phenytoin', 'morphine', 'meropenem', 'morphi...</td>\n",
       "    </tr>\n",
       "    <tr>\n",
       "      <th>3</th>\n",
       "      <td>10</td>\n",
       "      <td>History of Present Illness:\\nIn brief, this is...</td>\n",
       "      <td>{'tachycardic', 'myoclonic seizures', 'aphasic...</td>\n",
       "      <td>{'phenytoin', 'morphine', 'meropenem', 'morphi...</td>\n",
       "    </tr>\n",
       "    <tr>\n",
       "      <th>4</th>\n",
       "      <td>11</td>\n",
       "      <td>History of Present Illness:\\nHPI: This is a 69...</td>\n",
       "      <td>{'headaches', 'lethargic', 'lethargy'}</td>\n",
       "      <td>{'thiamine hcl', 'aspirin', 'docusate sodium',...</td>\n",
       "    </tr>\n",
       "  </tbody>\n",
       "</table>\n",
       "</div>"
      ],
      "text/plain": [
       "   note_ID                                               text  \\\n",
       "0        1  History of Present Illness:\\n41 y/o M w/ h/o H...   \n",
       "1        8  History of Present Illness:\\n64 y/o male w/kno...   \n",
       "2        9  History of Present Illness:\\nIn brief, this is...   \n",
       "3       10  History of Present Illness:\\nIn brief, this is...   \n",
       "4       11  History of Present Illness:\\nHPI: This is a 69...   \n",
       "\n",
       "                                            symptoms  \\\n",
       "0  {'myalgias', 'hemoptysis', 'calf pain', 'tachy...   \n",
       "1                                           {'pain'}   \n",
       "2  {'tachycardic', 'myoclonic seizures', 'aphasic...   \n",
       "3  {'tachycardic', 'myoclonic seizures', 'aphasic...   \n",
       "4             {'headaches', 'lethargic', 'lethargy'}   \n",
       "\n",
       "                                         medications  \n",
       "0  {'morphine', 'cefazolin', 'prilosec', 'senna',...  \n",
       "1  {'ranitidine hcl', 'aspirin', 'lipitor', 'ibup...  \n",
       "2  {'phenytoin', 'morphine', 'meropenem', 'morphi...  \n",
       "3  {'phenytoin', 'morphine', 'meropenem', 'morphi...  \n",
       "4  {'thiamine hcl', 'aspirin', 'docusate sodium',...  "
      ]
     },
     "execution_count": 22,
     "metadata": {},
     "output_type": "execute_result"
    }
   ],
   "source": [
    "ner_pair.head()"
   ]
  },
  {
   "cell_type": "markdown",
   "id": "22505979-1445-42a0-84e2-f53664a58137",
   "metadata": {},
   "source": [
    "## Load pubmed data"
   ]
  },
  {
   "cell_type": "code",
   "execution_count": 23,
   "id": "84ca5b98-2d98-47b8-9884-c2d78ce523ba",
   "metadata": {},
   "outputs": [],
   "source": [
    "file_path = 'data/pubmed.json'\n",
    "# file_path = 'pubmed/2019-1-pubmed_articles.json'\n",
    "with open(file_path, 'r', encoding='utf-8') as file:\n",
    "    # Load JSON data from the file\n",
    "    data = json.load(file)"
   ]
  },
  {
   "cell_type": "code",
   "execution_count": 24,
   "id": "e1c3519c-c6e9-4319-81ad-251da60bc1a7",
   "metadata": {},
   "outputs": [
    {
     "data": {
      "text/plain": [
       "633712"
      ]
     },
     "execution_count": 24,
     "metadata": {},
     "output_type": "execute_result"
    }
   ],
   "source": [
    "len(data)"
   ]
  },
  {
   "cell_type": "code",
   "execution_count": 25,
   "id": "6f53f6b2-8c2a-467b-ac40-fe8ae76f4bae",
   "metadata": {},
   "outputs": [],
   "source": [
    "pattern = '|'.join(map(re.escape, ents))"
   ]
  },
  {
   "cell_type": "code",
   "execution_count": 26,
   "id": "be99fba5-f91b-48de-97f7-0fddcc6fa847",
   "metadata": {},
   "outputs": [],
   "source": [
    "n = 0\n",
    "samples = []\n",
    "for d in data:\n",
    "    # if n < 100000:\n",
    "    if (d['Abstract']!='') and (re.search(pattern, d['Abstract'])):\n",
    "        samples.append(d)\n",
    "            # n = n + 1"
   ]
  },
  {
   "cell_type": "code",
   "execution_count": 27,
   "id": "25fd831f-6676-436c-a09f-5e618b8eb951",
   "metadata": {},
   "outputs": [],
   "source": [
    "# data = [d for d in data if re.search(pattern, d['Abstract'])]"
   ]
  },
  {
   "cell_type": "code",
   "execution_count": 28,
   "id": "6f6acab0-1f86-40af-902f-dc9a2f7a299e",
   "metadata": {},
   "outputs": [],
   "source": [
    "# data = [d for d in data if d['Abstract']!='']"
   ]
  },
  {
   "cell_type": "code",
   "execution_count": 29,
   "id": "7a1d0c33-56a7-49f6-887c-815181e86bc0",
   "metadata": {},
   "outputs": [],
   "source": [
    "# samples[0]"
   ]
  },
  {
   "cell_type": "code",
   "execution_count": 30,
   "id": "a1d027d3-ec26-4870-b045-15b06668099d",
   "metadata": {},
   "outputs": [
    {
     "data": {
      "text/plain": [
       "20369"
      ]
     },
     "execution_count": 30,
     "metadata": {},
     "output_type": "execute_result"
    }
   ],
   "source": [
    "len(samples)"
   ]
  },
  {
   "cell_type": "code",
   "execution_count": 31,
   "id": "a630c771-c336-469e-b1b7-b09679a0de63",
   "metadata": {},
   "outputs": [],
   "source": [
    "df = pd.DataFrame(samples)"
   ]
  },
  {
   "cell_type": "code",
   "execution_count": 32,
   "id": "bdd79f02-f3ab-4b16-9adc-57455c122cf9",
   "metadata": {},
   "outputs": [
    {
     "name": "stdout",
     "output_type": "stream",
     "text": [
      "(20369, 5)\n",
      "(20369, 5)\n"
     ]
    }
   ],
   "source": [
    "print(df.shape)\n",
    "df = df.loc[df['Abstract']!='']\n",
    "print(df.shape)"
   ]
  },
  {
   "cell_type": "code",
   "execution_count": 33,
   "id": "ee193a04-9cd2-4a85-b393-edc18b6dd0b9",
   "metadata": {},
   "outputs": [],
   "source": [
    "# df.head()"
   ]
  },
  {
   "cell_type": "code",
   "execution_count": 34,
   "id": "c0fe0aa5-737c-4b2c-8d35-1ed8815bc5a4",
   "metadata": {},
   "outputs": [],
   "source": [
    "# df.to_csv('data/2019-1-pubmed_articles.csv')\n",
    "# df.to_csv('data/2019-1-pubmed_articles.csv')"
   ]
  },
  {
   "cell_type": "code",
   "execution_count": 35,
   "id": "59baf2c5-ba79-4661-90e1-6cc3277d9be8",
   "metadata": {},
   "outputs": [],
   "source": [
    "df['Authors'] = df['Authors'].astype(str)\n",
    "# df['combined'] = df.apply(lambda row: ' '.join(row.values.astype(str)), axis=1)"
   ]
  },
  {
   "cell_type": "code",
   "execution_count": 36,
   "id": "0eadfe5a-d6ac-407c-b862-441e3485322f",
   "metadata": {},
   "outputs": [],
   "source": [
    "# df['Authors'] = \n",
    "# df['Authors'].iloc[0]\n",
    "# df['Abstract'] = df[['PMID', 'Title', 'Journal', 'Authors', 'Abstract']].agg(' - '.join, axis=1)"
   ]
  },
  {
   "cell_type": "code",
   "execution_count": 37,
   "id": "5daae216-6f4e-4c7a-b7fb-d9f58e5526e9",
   "metadata": {},
   "outputs": [
    {
     "data": {
      "text/plain": [
       "['PMID', 'Title', 'Journal', 'Authors', 'Abstract']"
      ]
     },
     "execution_count": 37,
     "metadata": {},
     "output_type": "execute_result"
    }
   ],
   "source": [
    "list(df)"
   ]
  },
  {
   "cell_type": "code",
   "execution_count": 38,
   "id": "58506e18-cb36-4e3c-8b16-040e3430f25b",
   "metadata": {},
   "outputs": [],
   "source": [
    "# df"
   ]
  },
  {
   "cell_type": "code",
   "execution_count": 39,
   "id": "ec3302ee-fc08-4c22-aead-7cc319848fc4",
   "metadata": {},
   "outputs": [],
   "source": [
    "# # pid = [55730, ]\n",
    "# # docs = notes.loc[notes['subject_id']==pid]\n",
    "# docs = notes.loc[notes['category']=='Discharge summary']"
   ]
  },
  {
   "cell_type": "code",
   "execution_count": 40,
   "id": "82f13689-b333-4577-bc26-a63b331276fc",
   "metadata": {},
   "outputs": [],
   "source": [
    "from langchain import hub\n",
    "from langchain_chroma import Chroma\n",
    "from langchain_ollama.llms import OllamaLLM\n",
    "from langchain_ollama import OllamaEmbeddings\n",
    "from langchain_community.document_loaders.csv_loader import CSVLoader\n",
    "from langchain_community.document_loaders import DataFrameLoader\n",
    "from langchain_core.output_parsers import StrOutputParser\n",
    "from langchain_core.runnables import RunnablePassthrough\n",
    "from langchain_openai import OpenAIEmbeddings\n",
    "from langchain_core.prompts import PromptTemplate\n",
    "from langchain.retrievers import BM25Retriever\n",
    "from langchain_text_splitters import RecursiveCharacterTextSplitter\n",
    "from langchain.output_parsers import PydanticOutputParser"
   ]
  },
  {
   "cell_type": "code",
   "execution_count": 41,
   "id": "89c4a369-cc66-4700-ae74-d21ef2a8ba42",
   "metadata": {},
   "outputs": [],
   "source": [
    "# loader = CSVLoader(file_path='data/2019-1-pubmed_articles.csv',\n",
    "#     csv_args={\n",
    "#     # 'delimiter': ',',\n",
    "#     # 'quotechar': '\"',\n",
    "#     'fieldnames': ['PMID', 'Title', 'Journal', 'Authors', 'Abstract']\n",
    "# }\n",
    "#     )"
   ]
  },
  {
   "cell_type": "code",
   "execution_count": 42,
   "id": "5dd2f8f8-09b5-4b67-84ad-7bfe618ea110",
   "metadata": {},
   "outputs": [],
   "source": [
    "# docs = loader.load()"
   ]
  },
  {
   "cell_type": "code",
   "execution_count": 43,
   "id": "211bdd52-8499-4a29-9287-da5e8b16bb33",
   "metadata": {},
   "outputs": [],
   "source": [
    "# from langchain.schema import Document"
   ]
  },
  {
   "cell_type": "code",
   "execution_count": 44,
   "id": "d699ab5b-2b21-4aca-84a3-812d968442cc",
   "metadata": {},
   "outputs": [],
   "source": [
    "loader = DataFrameLoader(df, page_content_column=\"Abstract\")\n",
    "docs = loader.load()\n",
    "# docs = [\n",
    "#     Document(\n",
    "#         page_content=str(d),\n",
    "#     )\n",
    "#     for d in data[:100]\n",
    "# ]"
   ]
  },
  {
   "cell_type": "code",
   "execution_count": 45,
   "id": "4bc2c286-3ced-4da3-b22f-fc052d9b534c",
   "metadata": {},
   "outputs": [],
   "source": [
    "# docs[3]"
   ]
  },
  {
   "cell_type": "code",
   "execution_count": 46,
   "id": "df99d87f-6dbb-4a79-b311-8757992a0005",
   "metadata": {},
   "outputs": [],
   "source": [
    "embeddings = OllamaEmbeddings(model=\"llama3.2\")\n",
    "llm = OllamaLLM(model=\"llama3.2\")"
   ]
  },
  {
   "cell_type": "code",
   "execution_count": 47,
   "id": "01309131-9ab6-4c64-a2b2-a87ab7b8e35d",
   "metadata": {},
   "outputs": [
    {
     "name": "stdout",
     "output_type": "stream",
     "text": [
      "CPU times: user 4.58 s, sys: 248 ms, total: 4.83 s\n",
      "Wall time: 4.82 s\n"
     ]
    }
   ],
   "source": [
    "%%time\n",
    "text_splitter = RecursiveCharacterTextSplitter(chunk_size=1000, chunk_overlap=200)\n",
    "splits = text_splitter.split_documents(docs)\n",
    "# vectorstore = Chroma.from_documents(documents=splits, embedding=embeddings)\n",
    "# vectordb.persist()\n",
    "# Retrieve and generate using the relevant snippets of the blog.\n",
    "# retriever = vectorstore.as_retriever()\n",
    "\n",
    "retriever = BM25Retriever.from_documents(splits, k=10)"
   ]
  },
  {
   "cell_type": "code",
   "execution_count": 48,
   "id": "e1a36d24-694f-4f0c-b0da-707c41aa2ff2",
   "metadata": {},
   "outputs": [],
   "source": [
    "# %pip install rank_bm25"
   ]
  },
  {
   "cell_type": "code",
   "execution_count": 49,
   "id": "7d8a90f6-8cc3-48f1-804a-72994af7dfbc",
   "metadata": {},
   "outputs": [],
   "source": [
    "# from langchain.retrievers.ensemble import EnsembleRetriever\n",
    "# from langchain.retrievers import BM25Retriever\n",
    "\n",
    "# bm25_retriever = BM25Retriever.from_documents(splits)\n",
    "# retriever = EnsembleRetriever(retrievers=[bm25_retriever, vectorstore.as_retriever()], weights=[0.5, 0.5])"
   ]
  },
  {
   "cell_type": "code",
   "execution_count": 50,
   "id": "008e2eeb-fd94-4bd5-81a0-6571f99de46a",
   "metadata": {},
   "outputs": [],
   "source": [
    "# retriever = vectorstore.as_retriever(\n",
    "#     search_type=\"similarity\",  # Options: \"similarity\", \"mmr\", \"similarity_score_threshold\"\n",
    "#     search_kwargs={\"k\": 10}  # Number of top results to retrieve\n",
    "# )"
   ]
  },
  {
   "cell_type": "code",
   "execution_count": 51,
   "id": "f0ed3cdf-d322-4b87-84b8-2fe06413b380",
   "metadata": {},
   "outputs": [],
   "source": [
    "# vectordb = Chroma(persist_directory='data/mimic_embs', embedding_function=embeddings)"
   ]
  },
  {
   "cell_type": "code",
   "execution_count": 69,
   "id": "52f09c9c-2b13-481b-ba02-44aff9cfb7be",
   "metadata": {},
   "outputs": [],
   "source": [
    "from pydantic import BaseModel\n",
    "from typing import Union\n",
    "\n",
    "# Define a Pydantic model for structured JSON output\n",
    "class AdverseEffectResponse(BaseModel):\n",
    "    PMID: Union[int, str]  # Accepts both int and \"N/A\"\n",
    "    evidence: str  # Summary of evidence\n",
    "\n",
    "parser = PydanticOutputParser(pydantic_object=AdverseEffectResponse)"
   ]
  },
  {
   "cell_type": "code",
   "execution_count": 70,
   "id": "d317d215-4137-4caf-9593-3215c83ebd28",
   "metadata": {},
   "outputs": [],
   "source": [
    "# prompt = hub.pull(\"rlm/rag-prompt\")\n",
    "prompt = PromptTemplate.from_template(\"You are an assistant for question-answering tasks. Use the following pieces of retrieved context to answer the question. If you don't know the answer, just say that you don't know. Use three sentences maximum and keep the answer concise. \\nContext: {context} \\nQuestion: {question} \\nAnswer:\")\n",
    "\n",
    "def format_docs(docs):\n",
    "    return \"\\n\\n\".join(\n",
    "        f\"Content: {doc.page_content}\\nMetadata: {doc.metadata}\" for doc in docs\n",
    "    )\n",
    "    # return \"\\n\\n\".join(doc.page_content for doc in docs)\n",
    "\n",
    "rag_chain = (\n",
    "    {\"context\": retriever | format_docs, \"question\": RunnablePassthrough()}\n",
    "    | prompt\n",
    "    | llm\n",
    "    | StrOutputParser()\n",
    "    | parser\n",
    ")"
   ]
  },
  {
   "cell_type": "code",
   "execution_count": 71,
   "id": "de6972d3-24d2-4040-ae39-325598d30a9c",
   "metadata": {},
   "outputs": [],
   "source": [
    "# rag_chain.invoke('what is the median red blood cell content was?')"
   ]
  },
  {
   "cell_type": "code",
   "execution_count": 72,
   "id": "19c47d24-36a0-4d68-aa2d-7ac494fcb048",
   "metadata": {},
   "outputs": [],
   "source": [
    "# df.head(2)"
   ]
  },
  {
   "cell_type": "code",
   "execution_count": 108,
   "id": "be954f7a-11f6-4b42-bd0a-dfba4c478ab5",
   "metadata": {},
   "outputs": [],
   "source": [
    "def rag_pair(medication, sysm):\n",
    "    question = f\"\"\"\n",
    "    Determine whether {medication} has been associated with {sysm} as a potential adverse effect. \n",
    "    If evidence exists, **return only a JSON object** in this format:\n",
    "    {{\n",
    "    \"PMID\": <PubMed ID>,\n",
    "    \"evidence\": \"<summary of evidence>\"\n",
    "    }}\n",
    "    \n",
    "    If no evidence exists, return:\n",
    "    \n",
    "    {{\n",
    "        \"PMID\": \"N/A\",\n",
    "        \"evidence\": \"No evidence found.\"\n",
    "    }}\n",
    "    \"\"\"\n",
    "    response = rag_chain.invoke(question)\n",
    "    print(response)"
   ]
  },
  {
   "cell_type": "code",
   "execution_count": 109,
   "id": "bd0e3300-bb7e-4e9a-bbcd-aeae59f14c37",
   "metadata": {},
   "outputs": [
    {
     "name": "stdout",
     "output_type": "stream",
     "text": [
      "PMID='32830272' evidence='Aspirin of potential value in patients with autoimmune systemic rheumatic diseases due to increased risk of cardiovascular complications, which makes aspirin a potential treatment option for these subjects'\n"
     ]
    }
   ],
   "source": [
    "rag_pair('aspirin', 'hemorrhage')"
   ]
  },
  {
   "cell_type": "code",
   "execution_count": 110,
   "id": "bc3a642d-e501-48ae-941d-9fbfd76952c4",
   "metadata": {},
   "outputs": [
    {
     "name": "stdout",
     "output_type": "stream",
     "text": [
      "PMID='37132104' evidence='Aspirin confers a net benefit in patients with CAC ≥100 and ASCVD risk ≥5% but would experience a net harm in patients with a high bleeding risk, irrespective of ASCVD risk or CAC.'\n"
     ]
    }
   ],
   "source": [
    "rag_pair('aspirin', 'bleeding')"
   ]
  },
  {
   "cell_type": "code",
   "execution_count": null,
   "id": "5e5b065f-8d07-4d1b-b20e-cae99332d86d",
   "metadata": {},
   "outputs": [],
   "source": []
  },
  {
   "cell_type": "code",
   "execution_count": null,
   "id": "0b3201fe-3d8f-4657-8446-56b7f6eed2c1",
   "metadata": {},
   "outputs": [],
   "source": []
  },
  {
   "cell_type": "code",
   "execution_count": 78,
   "id": "73e23e7a-d98b-4796-989d-a3ab1a079407",
   "metadata": {},
   "outputs": [],
   "source": [
    "from tqdm import tqdm"
   ]
  },
  {
   "cell_type": "code",
   "execution_count": 80,
   "id": "0a98e83d-570e-4a1b-bbf5-293b191c4d3d",
   "metadata": {},
   "outputs": [],
   "source": [
    "results = {}"
   ]
  },
  {
   "cell_type": "code",
   "execution_count": null,
   "id": "8d4566ee-263e-45e2-b6a6-0d97c9d5fc18",
   "metadata": {},
   "outputs": [],
   "source": [
    "# https://pubmed.ncbi.nlm.nih.gov/8824810/\n",
    "\n",
    "# hemorrhage\n",
    "# # bleeding "
   ]
  },
  {
   "cell_type": "code",
   "execution_count": 81,
   "id": "72898e6b-205e-47b8-800d-6205567a8266",
   "metadata": {},
   "outputs": [
    {
     "name": "stderr",
     "output_type": "stream",
     "text": [
      "100%|██████████| 3770/3770 [1:48:51<00:00,  1.73s/it]  \n"
     ]
    }
   ],
   "source": [
    "for sysm, medication in tqdm(sym_med): \n",
    "    key = sysm+'-'+medication\n",
    "    if key not in results:\n",
    "        # medication = \"aspirin\"\n",
    "        # sysm = 'hemorrhage'\n",
    "        # Using f-string to format the string with the variables\n",
    "        \n",
    "        question = f\"\"\"\n",
    "        Determine whether {medication} has been associated with {sysm} as a potential adverse effect. \n",
    "        If evidence exists, **return only a JSON object** in this format:\n",
    "        {{\n",
    "        \"PMID\": <PubMed ID>,\n",
    "        \"evidence\": \"<summary of evidence>\"\n",
    "        }}\n",
    "        \n",
    "        If no evidence exists, return:\n",
    "        \n",
    "        {{\n",
    "            \"PMID\": \"N/A\",\n",
    "            \"evidence\": \"No evidence found.\"\n",
    "        }}\n",
    "        \"\"\"\n",
    "        # Print the correctly assigned string\n",
    "        # print(question)\n",
    "        try:\n",
    "            response = rag_chain.invoke(question)\n",
    "        except Exception as e:\n",
    "            if \"OutputParserException\" in str(e):\n",
    "                response = rag_chain.invoke(question)\n",
    "        \n",
    "        results[key] = {'symptom': sysm,\n",
    "                        'medication': medication,\n",
    "                        'PMID': response.PMID,\n",
    "                        'evidence': response.evidence\n",
    "        }"
   ]
  },
  {
   "cell_type": "code",
   "execution_count": 83,
   "id": "be8e92ab-d4ed-47e8-99b5-3db4ee499df6",
   "metadata": {},
   "outputs": [
    {
     "data": {
      "text/plain": [
       "3770"
      ]
     },
     "execution_count": 83,
     "metadata": {},
     "output_type": "execute_result"
    }
   ],
   "source": [
    "len(results)"
   ]
  },
  {
   "cell_type": "code",
   "execution_count": 142,
   "id": "820949aa-4114-47d4-be9f-b92ac85d2780",
   "metadata": {},
   "outputs": [],
   "source": [
    "rets = {}"
   ]
  },
  {
   "cell_type": "code",
   "execution_count": 145,
   "id": "d9aa9e9b-8141-4617-b8c6-123e2289c6a1",
   "metadata": {},
   "outputs": [
    {
     "name": "stderr",
     "output_type": "stream",
     "text": [
      "100%|██████████| 3770/3770 [34:02<00:00,  1.85it/s]\n"
     ]
    }
   ],
   "source": [
    "for sysm, medication in tqdm(sym_med): \n",
    "    key = sysm+'-'+medication\n",
    "    if key not in rets:\n",
    "        # medication = \"aspirin\"\n",
    "        # sysm = 'hemorrhage'\n",
    "        # Using f-string to format the string with the variables\n",
    "        \n",
    "        question = f\"\"\"\n",
    "        Determine whether {medication} has been associated with {sysm} as a potential adverse effect. \n",
    "        If evidence exists, **return only a JSON object** in this format:\n",
    "        {{\n",
    "        \"PMID\": <PubMed ID>,\n",
    "        \"evidence\": \"<summary of evidence>\"\n",
    "        }}\n",
    "        \n",
    "        If no evidence exists, return:\n",
    "        \n",
    "        {{\n",
    "            \"PMID\": \"N/A\",\n",
    "            \"evidence\": \"No evidence found.\"\n",
    "        }}\n",
    "        \"\"\"\n",
    "        # Print the correctly assigned string\n",
    "        # print(question)\n",
    "        retrieved_docs = retriever.invoke(question)\n",
    "\n",
    "        # print(len(retrieved_docs))\n",
    "\n",
    "        # context = \"\\n\\n\".join(doc.page_content for doc in retrieved_docs)\n",
    "        context = \"\\n\\n\".join(\n",
    "                f\"Content: {doc.page_content}\\nMetadata: {doc.metadata}\" for doc in retrieved_docs)\n",
    "        # print(context)\n",
    "        \n",
    "        rets[key] = {'symptom': sysm,\n",
    "                        'medication': medication,\n",
    "                        'context': context\n",
    "        }"
   ]
  },
  {
   "cell_type": "code",
   "execution_count": 146,
   "id": "3c685d36-064b-4462-96a0-f7b0bf800414",
   "metadata": {},
   "outputs": [],
   "source": [
    "# rets"
   ]
  },
  {
   "cell_type": "code",
   "execution_count": null,
   "id": "01971748-2844-4ca9-9fba-666c216836ec",
   "metadata": {},
   "outputs": [],
   "source": [
    "import pickle"
   ]
  },
  {
   "cell_type": "code",
   "execution_count": 149,
   "id": "6430c4cf-c77c-4c8a-a25c-ca1d963897bc",
   "metadata": {},
   "outputs": [],
   "source": [
    "# with open(\"rag_retrievals.pkl\", \"wb\") as file:\n",
    "#     pickle.dump(rets, file)"
   ]
  },
  {
   "cell_type": "code",
   "execution_count": 147,
   "id": "568f0e0a-904a-4470-b78f-0da0774c561a",
   "metadata": {},
   "outputs": [],
   "source": [
    "# with open(\"rag_results.pkl\", \"wb\") as file:\n",
    "#     pickle.dump(results, file)"
   ]
  },
  {
   "cell_type": "code",
   "execution_count": null,
   "id": "ae4ee658-50ac-4829-af02-70bc5258f9cc",
   "metadata": {},
   "outputs": [],
   "source": [
    "with open(\"rag_retrievals.pkl\", \"rb\") as file:\n",
    "    rets = pickle.load(file)"
   ]
  },
  {
   "cell_type": "code",
   "execution_count": null,
   "id": "715a113d-2c8d-43ec-a3e4-e914cb34ffce",
   "metadata": {},
   "outputs": [],
   "source": [
    "with open(\"rag_results.pkl\", \"rb\") as file:\n",
    "    results = pickle.load(file)"
   ]
  },
  {
   "cell_type": "code",
   "execution_count": 89,
   "id": "4d62536f-bd4a-4469-a54e-9474b4f49727",
   "metadata": {},
   "outputs": [
    {
     "data": {
      "text/plain": [
       "{'symptom': 'diaphoretic',\n",
       " 'medication': 'paroxetine hcl',\n",
       " 'PMID': '31361372',\n",
       " 'evidence': \"Paroxetine hcl has been associated with diaphoretic as a potential adverse effect, which is mentioned in the article 'Chemoprevention of colorectal cancer: Past, present, and future.'\"}"
      ]
     },
     "execution_count": 89,
     "metadata": {},
     "output_type": "execute_result"
    }
   ],
   "source": [
    "results['diaphoretic-paroxetine hcl']"
   ]
  },
  {
   "cell_type": "code",
   "execution_count": 153,
   "id": "967701a7-e43b-4f13-b17f-0ad3bc41c551",
   "metadata": {},
   "outputs": [],
   "source": [
    "dat = {}\n",
    "for k in rets.keys():\n",
    "    v = rets[k]\n",
    "    sysm = dat.get(v['medication'], {})\n",
    "    sysm[v['symptom']] = v['context']\n",
    "    dat[v['medication']] = sysm"
   ]
  },
  {
   "cell_type": "code",
   "execution_count": 154,
   "id": "3890f704-eb9b-4056-9c16-7785b44da524",
   "metadata": {},
   "outputs": [],
   "source": [
    "with open(\"rag-retrievals.json\", \"w\") as file:\n",
    "    json.dump(dat, file, indent=4)  # Save JSON to a file"
   ]
  },
  {
   "cell_type": "code",
   "execution_count": 104,
   "id": "93c76fd2-44a7-4c1c-90fe-5eb999cc817d",
   "metadata": {},
   "outputs": [],
   "source": [
    "dat = {}\n",
    "for k in results.keys():\n",
    "    v = results[k]\n",
    "    sysm = dat.get(v['medication'], {})\n",
    "    pids = sysm.get(v['symptom'], {})\n",
    "    pid = (v['PMID'])\n",
    "    if pid.isdigit():\n",
    "        pids[\"PubMed ID: \"+str(pid)] = v['evidence'] + \" <a href=\"+f\"https://pubmed.ncbi.nlm.nih.gov/{pid}/\" +'target=\"_blank\">Click here</a> '\n",
    "    else:\n",
    "        pids[pid] = v['evidence']\n",
    "    sysm[v['symptom']] = pids\n",
    "    dat[v['medication']] = sysm"
   ]
  },
  {
   "cell_type": "code",
   "execution_count": 105,
   "id": "929298b3-129a-4c10-814a-e6e3d85104dc",
   "metadata": {},
   "outputs": [],
   "source": [
    "# dat"
   ]
  },
  {
   "cell_type": "code",
   "execution_count": 106,
   "id": "e0750453-1be0-47fb-992e-98aaace9258c",
   "metadata": {},
   "outputs": [],
   "source": [
    "with open(\"rag-data.json\", \"w\") as file:\n",
    "    json.dump(dat, file, indent=4)  # Save JSON to a file"
   ]
  },
  {
   "cell_type": "code",
   "execution_count": 97,
   "id": "a230cef1-4c61-4a8c-8f25-46dfcd76c9eb",
   "metadata": {},
   "outputs": [],
   "source": [
    "# with open(\"rag_results.pkl\", \"rb\") as file:\n",
    "#     loaded_data = pickle.load(file)"
   ]
  },
  {
   "cell_type": "code",
   "execution_count": 140,
   "id": "b3125811-3f56-4745-bf02-36025b7899b8",
   "metadata": {},
   "outputs": [
    {
     "data": {
      "text/plain": [
       "AdverseEffectResponse(PMID=32162010, evidence='Yes, patients with cerebral amyloid angiopathy may experience a high risk of recurrent intracerebral hemorrhage (ICH) when treated with anticoagulation or platelet inhibition.')"
      ]
     },
     "execution_count": 140,
     "metadata": {},
     "output_type": "execute_result"
    }
   ],
   "source": [
    "# question = 'which study mentioned the median red blood cell content? Provide PMID of the study'\n",
    "# question = 'What are the potential adverse effects of aspirin?'\n",
    "# rag_chain.invoke(question)\n",
    "\n",
    "# question = 'Is hemorrhage a potential adverse effect of aspirin? If so, provide evidence such as paper PMID and title in the context.'"
   ]
  },
  {
   "cell_type": "code",
   "execution_count": 66,
   "id": "01fb9b77-866f-4339-b183-ba6676b0efc1",
   "metadata": {},
   "outputs": [
    {
     "data": {
      "text/plain": [
       "['INTRODUCTION: Pharmacologic therapy options for COVID-19 should include antiviral, anti-inflammatory, and anticoagulant agents. With the limited effectiveness, currently available virus-directed therapies may have a substantial impact on global health due to continued reports of mutant variants affecting repeated waves of COVID-19 around the world.\\nMETHODS: We searched articles pertaining to aspirin, COVID-19, acute lung injury and pharmacology in PubMed and provide a comprehensive appraisal of potential use of aspirin in the management of patients with COVID-19. The scope of this article is to provide an overview of the rationale and currently available clinical evidence that supports aspirin as an effective therapeutic option in COVID-19.\\nRESULTS: Experimental and clinical evidence are available for the potential use of aspirin in patients with COVID-19.\\nDISCUSSION: Aspirin targets the intracellular signaling pathway that is essential for viral replication, and resultant inflammatory responses, hypercoagulability, and platelet activation. With these multiple benefits, aspirin can be a credible adjunctive therapeutic option for the treatment of COVID-19. In addition, inhaled formulation with its rapid effects may enhance direct delivery to the lung, which is the key organ damaged in COVID-19 during the critical initial course of the disease, whereas the 150-325 mg/day can be used for long-term treatment to prevent thrombotic event occurrences. Being economical and widely available, aspirin can be exploited globally, particularly in underserved communities and remote areas of the world to combat the ongoing COVID-19 pandemic.']"
      ]
     },
     "execution_count": 66,
     "metadata": {},
     "output_type": "execute_result"
    }
   ],
   "source": [
    "df.loc[df['PMID']=='34908882']['Abstract'].tolist()"
   ]
  },
  {
   "cell_type": "code",
   "execution_count": null,
   "id": "03170384-e053-4e06-bae4-9a8544b2dd68",
   "metadata": {},
   "outputs": [],
   "source": []
  },
  {
   "cell_type": "code",
   "execution_count": null,
   "id": "33803564-86dc-4e81-baa9-f74f7e04fb54",
   "metadata": {},
   "outputs": [],
   "source": []
  },
  {
   "cell_type": "code",
   "execution_count": null,
   "id": "67d4fd61-5213-4b68-98c4-6cd980a1c5a5",
   "metadata": {},
   "outputs": [],
   "source": []
  },
  {
   "cell_type": "code",
   "execution_count": null,
   "id": "eb0cb0c2-5005-47ca-8632-203a3df58b8f",
   "metadata": {},
   "outputs": [],
   "source": []
  },
  {
   "cell_type": "code",
   "execution_count": 128,
   "id": "39321019-269d-4fcb-befe-d9ae91cc7470",
   "metadata": {},
   "outputs": [],
   "source": [
    "medication = 'aspirin'\n",
    "symptom = 'hemorrhage'\n",
    "question = f\"\"\"\n",
    "    Determine whether {medication} has been associated with {symptom} as a potential adverse effect. \n",
    "    If evidence exists, **return only a JSON object** in this format:\n",
    "    {{\n",
    "    \"PMID\": <PubMed ID>,\n",
    "    \"evidence\": \"<summary of evidence>\"\n",
    "    }}\n",
    "    \n",
    "    If no evidence exists, return:\n",
    "    \n",
    "    {{\n",
    "        \"PMID\": \"N/A\",\n",
    "        \"evidence\": \"No evidence found.\"\n",
    "    }}\n",
    "    \"\"\""
   ]
  },
  {
   "cell_type": "code",
   "execution_count": 129,
   "id": "317fa4f5-9976-4ede-b49a-ac257273bf3f",
   "metadata": {},
   "outputs": [
    {
     "name": "stdout",
     "output_type": "stream",
     "text": [
      "\n",
      "    Determine whether aspirin has been associated with hemorrhage as a potential adverse effect. \n",
      "    If evidence exists, **return only a JSON object** in this format:\n",
      "    {\n",
      "    \"PMID\": <PubMed ID>,\n",
      "    \"evidence\": \"<summary of evidence>\"\n",
      "    }\n",
      "    \n",
      "    If no evidence exists, return:\n",
      "    \n",
      "    {\n",
      "        \"PMID\": \"N/A\",\n",
      "        \"evidence\": \"No evidence found.\"\n",
      "    }\n",
      "    \n"
     ]
    }
   ],
   "source": [
    "print(question)"
   ]
  },
  {
   "cell_type": "code",
   "execution_count": 130,
   "id": "02fdbae5-31b3-46fc-9194-3f7ceade9ffc",
   "metadata": {},
   "outputs": [
    {
     "name": "stdout",
     "output_type": "stream",
     "text": [
      "10\n"
     ]
    }
   ],
   "source": [
    "# question = 'Is Asthma an adverse drug reaction of PGE2?'\n",
    "retrieved_docs = retriever.invoke(question)\n",
    "\n",
    "print(len(retrieved_docs))\n",
    "\n",
    "# context = \"\\n\\n\".join(doc.page_content for doc in retrieved_docs)\n",
    "context = \"\\n\\n\".join(\n",
    "        f\"Content: {doc.page_content}\\nMetadata: {doc.metadata}\" for doc in retrieved_docs)\n",
    "# print(context)\n",
    "\n",
    "# prompt = hub.pull(\"rlm/rag-prompt\")\n",
    "prompt = PromptTemplate.from_template(\"You are an assistant for question-answering tasks. Use the following pieces of retrieved context to answer the question. If you don't know the answer, just say that you don't know. Use three sentences maximum and keep the answer concise.\\nContext: {context} \\nQuestion: {question} \\nAnswer:\")\n",
    "\n",
    "example_messages = prompt.invoke(\n",
    "    {\"context\": context, \"question\": question}\n",
    ")"
   ]
  },
  {
   "cell_type": "code",
   "execution_count": 131,
   "id": "debd1f1f-3ad4-41c7-953b-b73f7f1df1d1",
   "metadata": {},
   "outputs": [
    {
     "name": "stdout",
     "output_type": "stream",
     "text": [
      "Content: BACKGROUND: Kommerell's aneurysm is a saccular or fusiform dilatation found in 3-8% of Kommerell's diverticulum cases. A non-dissecting rupture rate of 6% has been reported. If ruptured, emergent surgical correction is usually granted. However, evidence regarding the optimal surgical approach in this acute setting is scarce. In this case report series, we aim to describe our experience managing type-1 non-dissecting ruptured Kommerell's aneurysm with hybrid emergent surgical approaches.\n",
      "Metadata: {'PMID': '36964599', 'Title': \"Emergent hybrid surgical approaches for non-dissecting ruptured Kommerell's aneurysm: a case report series.\", 'Journal': 'Journal of cardiothoracic surgery', 'Authors': \"['Alejandro Velandia-Sánchez', 'Sebastián Gómez-Galán', 'Sebastian Gallo-Bernal', 'Camilo A Polania-Sandoval', 'Ivonne G Pineda-Rodríguez', 'Paula Florez-Amaya', 'Lina M Sanabria-Arévalo', 'Julián Senosiain-González', 'Juan G Barrera-Carvajal', 'Juan P Umana', 'Jaime Camacho-Mackenzie']\"}\n",
      "\n",
      "Content: CONCLUSIONS: The combination of rivaroxaban and aspirin significantly reduces ischemic outcomes in patients with PAD after LER. Although no formal head-to-head comparison exists, in a similar population and for similar outcomes, this regimen demonstrated benefit where trials of DAPT were neutral. These data suggest that factor Xa inhibition may provide specific benefits in this population and that DAPT should not be considered a proven substitution.\n",
      "Metadata: {'PMID': '36251249', 'Title': 'Efficacy and safety of rivaroxaban versus placebo after lower extremity bypass surgery: A post hoc analysis of a \"CASPAR like\" outcome from VOYAGER PAD.', 'Journal': 'Clinical cardiology', 'Authors': \"['Marc P Bonaca', 'Michael Szarek', 'E Sebastian Debus', 'Mark R Nehler', 'Manesh R Patel', 'Sonia S Anand', 'Eva Muehlhofer', 'Scott D Berkowitz', 'Lloyd P Haskell', 'Rupert M Bauersachs']\"}\n",
      "\n",
      "Content: equivalent (secondary prevention). Recent evidence from large-scale clinical trials shows that administration of low-dose ASA is associated with a reduced risk of CV events with a corresponding small absolute increase in the risk of major bleeding (eg, gastrointestinal bleeding and hemorrhagic stroke). Although the benefit and the risk of low-dose ASA in primary prevention are numerically similar, the clinical consequences of an increased risk of bleeding and a decreased risk of a CV event may not be equivalent. If these data are applied to patients with higher levels of CV outcome risk, more patients may potentially benefit from aspirin use in primary prevention.\n",
      "Metadata: {'PMID': '34432623', 'Title': 'Primary Prevention of CVD with Aspirin: Benefits vs Risks.', 'Journal': 'The Journal of family practice', 'Authors': \"['Steven M Weisman', 'Stephen Brunton']\"}\n",
      "\n",
      "Content: Both conservative and surgical treatment modalities have been advised for the management of this condition. However, on the basis of the evidence available in the literature, the treatment should be individualized for each patient with PA. If conservative management is chosen, close clinical monitoring is necessary for early identification of deterioration. Surgery generally is through the trans-sphenoidal route. Most patients have a good recovery in visual function and extraocular palsy. There is some evidence in the literature that surgical intervention, when necessary, should be undertaken early as it is associated with better visual outcome. The majority of the patients will have residual hormonal deficits which will require prolonged hormone replacement therapy. There is a small but significant risk of recurrent PA in patients with residual tumors, especially, in those with large tumor residues. There is also a small risk of tumor recurrence following PA and hence all patients\n",
      "Metadata: {'PMID': '32611895', 'Title': 'Pituitary Apoplexy: A Comprehensive Review.', 'Journal': 'Neurology India', 'Authors': \"['Natarajan Muthukumar']\"}\n",
      "\n",
      "Content: obtained without evidence of an inflammatory process; however, cardiac magnetic resonance imaging (MRI) was consistent with myocarditis and Coxsackie B titers indicated prior infection, leading to a diagnosis of clinically suspected recurrent viral myocarditis. He was treated with intravenous immunoglobulin (IV Ig) and a steroid taper, with rapid improvement in symptoms over the ensuing weeks without evidence of further recurrence or sequelae. CONCLUSIONS We present a case of recurrent Coxsackie B myocarditis based on presentation and imaging. Myocarditis is an important diagnosis to consider when a young, healthy individual presents with chest pain mimicking acute coronary syndrome, especially during the COVID pandemic. If there is evidence of myocarditis on MRI or endomyocardial biopsy, immunosuppressive therapy should be considered in patients with recurrent and severe presentations.\n",
      "Metadata: {'PMID': '35799414', 'Title': 'Recurrent Myocarditis Treated with Intravenous Immune Globulin and Steroids.', 'Journal': 'The American journal of case reports', 'Authors': \"['Brandon H Schwartz', 'Nathan R Stein', 'Shervin Eshaghian', 'Alan C Kwan', 'Michelle M Kittleson']\"}\n",
      "\n",
      "Content: Recurrent stroke is a frequent event and clinical trials that addressed the best secondary prevention are sparse. If patients take a thrombocyte aggregation inhibitor (TAI) before the recurrent stroke, clopidogrel can be chosen instead of aspirin or vice versa but evidence is lacking. A 3-week period of dual antiplatelet treatment might be a good alternative after acute reinfarction. The results of the recently published RESTART trial support resuming TAI treatment after a hemorrhagic stroke and showed that the intracerebral hemorrhage (ICH) rate is not elevated in comparison with a study group without TAI. Patients with ICH associated with oral anticoagulation (OAC) and atrial fibrillation should be restarted on novel OACs, if there are no relevant contraindications and the risk of ischemia is high. The anticoagulation treatment of patients with cerebral amyloid angiopathy is still a clinical dilemma as there is a high risk of recurrent ICH. These patients might be candidates for left\n",
      "Metadata: {'PMID': '32162010', 'Title': '[Stroke and intracerebral hemorrhage under anticoagulation or platelet inhibition-when should treatment be restarted and how?].', 'Journal': 'Der Internist', 'Authors': \"['Joachim Röther']\"}\n",
      "\n",
      "Content: Aspirin is the most commonly used medication worldwide. Beside its well-known anti-inflammatory effects, a role has emerged in the prevention of cardiovascular events. However, a significant benefit has been demonstrated in secondary cardiovascular prevention only, while there is limited evidence supporting a role in primary prevention. This discrepancy might depend on the that so far, the high-risk populations that will achieve the greatest benefits yet experiencing minimal harmful side effects have not been identified. Patients with autoimmune systemic rheumatic diseases have an increased risk of cardiovascular complications compared with the general population, which makes aspirin of potential value in these subjects. Moving from general aspects of aspirin pharmacology and specific issues in general population, the aim of this study is to review the evidence about the role of low-dose aspirin in primary cardiovascular prevention in autoimmune systemic rheumatic diseases.\n",
      "Metadata: {'PMID': '32830272', 'Title': 'The role of aspirin in the primary prevention of accelerated atherosclerosis in systemic autoimmune rheumatic diseases.', 'Journal': 'Rheumatology (Oxford, England)', 'Authors': \"['Serena Fasano', 'Daniela Iacono', 'Antonella Riccardi', 'Francesco Ciccia', 'Gabriele Valentini']\"}\n",
      "\n",
      "Content: Subarachnoid hemorrhage (SAH) is a major health burden that accounts for approximately 5% of all strokes. The most common cause of a non-traumatic SAH is the rupture of a cerebral aneurysm. The most common symptom associated with SAH is a headache, often described as \"the worst headache of my life.\" Delayed cerebral ischemia (DCI) is a major factor associated with patient mortality following SAH and is often associated with SAH-induced cerebral vasospasm (CV). Cannabidiol (CBD) is emerging as a potential drug for many therapeutic purposes, including epilepsy, anxiety, and pain relief. We aim to review the potential use of CBD as a treatment option for post-SAH critically ill patients. Through a literature review, we evaluated the known pharmacology and physiological effects of CBD and correlated those with the pathophysiological outcomes associated with cerebral vasospasm following subarachnoid hemorrhage. Although overlap exists, data were formatted into three major categories:\n",
      "Metadata: {'PMID': '36109476', 'Title': \"Cannabidiol's Multifactorial Mechanisms Has Therapeutic Potential for Aneurysmal Subarachnoid Hemorrhage: a Review.\", 'Journal': 'Translational stroke research', 'Authors': \"['Nicholas Henry', 'Justin F Fraser', 'Joseph Chappell', 'Tamra Langley', 'Jill M Roberts']\"}\n",
      "\n",
      "Content: MAIN RESULTS: Twenty studies (732 randomised participants, with data for 547 participants with stroke) met the inclusion criteria for this review. However, only 10 of these studies compared the effect of an intervention with a placebo, control, or no treatment group, and eight had data which could be included in meta-analyses. Only two of these eight studies presented data relating to our primary outcome of functional abilities in activities of daily living. One study reported evidence relating to adverse events.Three studies (88 participants) compared a restitutive intervention with a control, but data were only available for one study (19 participants). There was very low-quality evidence that visual restitution therapy had no effect on visual field outcomes, and a statistically significant effect on quality of life, but limitations with these data mean that there is insufficient evidence to draw any conclusions about the effectiveness of restitutive interventions as compared to\n",
      "Metadata: {'PMID': '31120142', 'Title': 'Interventions for visual field defects in people with stroke.', 'Journal': 'The Cochrane database of systematic reviews', 'Authors': \"['Alex Pollock', 'Christine Hazelton', 'Fiona J Rowe', 'Sven Jonuscheit', 'Ashleigh Kernohan', 'Jayne Angilley', 'Clair A Henderson', 'Peter Langhorne', 'Pauline Campbell']\"}\n",
      "\n",
      "Content: oral warfarin despite ongoing haematuria. The frank haematuria resolved within two days of anticoagulation with no radiological evidence of worsening of the perinephric hematoma. The follow-up ultrasonography a month later showed resolution of the hematoma and renal vein thrombosis with no adverse effect.\n",
      "Metadata: {'PMID': '36085017', 'Title': 'Double trouble - management of perinephric hematoma and renal vein thrombosis post percutaneous renal biopsy.', 'Journal': 'BMC nephrology', 'Authors': \"['Muhammad Imran Kamarudin', 'Chandran Nadarajan', 'Mohamed Ashraf Mohamed Daud']\"}\n"
     ]
    }
   ],
   "source": [
    "print(context)"
   ]
  },
  {
   "cell_type": "code",
   "execution_count": 133,
   "id": "e7638679-581d-422c-ae75-becea7b0bedd",
   "metadata": {},
   "outputs": [],
   "source": [
    "# print(example_messages)"
   ]
  },
  {
   "cell_type": "code",
   "execution_count": 135,
   "id": "757a46a7-9b2e-438a-8d42-dd5c84ff0e69",
   "metadata": {},
   "outputs": [
    {
     "name": "stdout",
     "output_type": "stream",
     "text": [
      "{\n",
      "    \"PMID\": \"32830272\",\n",
      "    \"evidence\": \"Aspirin may have potential value in patients with autoimmune systemic rheumatic diseases due to its cardiovascular benefits, but no specific mention of hemorrhage as an adverse effect is noted.\"\n",
      "}\n",
      "{\n",
      "    \"PMID\": \"36109476\",\n",
      "    \"evidence\": \"No direct evidence linking aspirin use to hemorrhage is mentioned in the provided review on cannabidiol's therapeutic potential for aneurysmal subarachnoid hemorrhage.\"\n",
      "}\n",
      "{\n",
      "    \"PMID\": \"36085017\",\n",
      "    \"evidence\": \"The case report mentions that anticoagulation with oral warfarin resolved a patient's frank haematuria, indicating that aspirin may not be directly associated with an increased risk of hemorrhage.\"\n",
      "}\n"
     ]
    }
   ],
   "source": [
    "chain = llm | StrOutputParser()\n",
    "print(chain.invoke(example_messages))"
   ]
  },
  {
   "cell_type": "code",
   "execution_count": 306,
   "id": "411de178-ddad-42b1-908d-82adb4638b02",
   "metadata": {},
   "outputs": [],
   "source": [
    "# df.head()"
   ]
  },
  {
   "cell_type": "code",
   "execution_count": null,
   "id": "8b3bfc54-8d13-4262-8f56-e934e3c7cdbb",
   "metadata": {},
   "outputs": [],
   "source": []
  },
  {
   "cell_type": "code",
   "execution_count": null,
   "id": "14f18b70-1ef3-4877-b8fa-f5c8869ea01d",
   "metadata": {},
   "outputs": [],
   "source": []
  },
  {
   "cell_type": "code",
   "execution_count": 73,
   "id": "7d479d7e-8aa6-4872-9170-549bb3d9d97b",
   "metadata": {},
   "outputs": [
    {
     "data": {
      "text/html": [
       "<div>\n",
       "<style scoped>\n",
       "    .dataframe tbody tr th:only-of-type {\n",
       "        vertical-align: middle;\n",
       "    }\n",
       "\n",
       "    .dataframe tbody tr th {\n",
       "        vertical-align: top;\n",
       "    }\n",
       "\n",
       "    .dataframe thead th {\n",
       "        text-align: right;\n",
       "    }\n",
       "</style>\n",
       "<table border=\"1\" class=\"dataframe\">\n",
       "  <thead>\n",
       "    <tr style=\"text-align: right;\">\n",
       "      <th></th>\n",
       "      <th>PMID</th>\n",
       "      <th>Title</th>\n",
       "      <th>Journal</th>\n",
       "      <th>Authors</th>\n",
       "      <th>Abstract</th>\n",
       "    </tr>\n",
       "  </thead>\n",
       "  <tbody>\n",
       "    <tr>\n",
       "      <th>3845</th>\n",
       "      <td>33392889</td>\n",
       "      <td>A maternal death due to the intracerebral hemo...</td>\n",
       "      <td>Clinical rheumatology</td>\n",
       "      <td>['Bijan Keikhaei', 'Najmieh Saadati', 'Mohamma...</td>\n",
       "      <td>Antiphospholipid syndrome (APS) is a systemic ...</td>\n",
       "    </tr>\n",
       "  </tbody>\n",
       "</table>\n",
       "</div>"
      ],
      "text/plain": [
       "          PMID                                              Title  \\\n",
       "3845  33392889  A maternal death due to the intracerebral hemo...   \n",
       "\n",
       "                    Journal  \\\n",
       "3845  Clinical rheumatology   \n",
       "\n",
       "                                                Authors  \\\n",
       "3845  ['Bijan Keikhaei', 'Najmieh Saadati', 'Mohamma...   \n",
       "\n",
       "                                               Abstract  \n",
       "3845  Antiphospholipid syndrome (APS) is a systemic ...  "
      ]
     },
     "execution_count": 73,
     "metadata": {},
     "output_type": "execute_result"
    }
   ],
   "source": [
    "# # Cardiovascular Disease\n",
    "# df[df['Title'].str.contains('asthma')]\n",
    "df.loc[df['PMID']=='33392889']"
   ]
  },
  {
   "cell_type": "code",
   "execution_count": 80,
   "id": "57a5b313-9563-4edb-a34f-d899f2a4db42",
   "metadata": {},
   "outputs": [],
   "source": [
    "# df[df['PMID']=='30635468']"
   ]
  },
  {
   "cell_type": "code",
   "execution_count": null,
   "id": "4be5d18f-496e-48de-b9bf-fa32cd56aeec",
   "metadata": {},
   "outputs": [],
   "source": [
    "q = \"Provide the titles and PMIDs of papers about Asthma\"\n",
    "retrieved_docs = retriever.invoke(q)\n",
    "\n",
    "print(len(retrieved_docs))\n",
    "\n",
    "context = \"\\n\\n\".join(doc.page_content for doc in retrieved_docs)"
   ]
  },
  {
   "cell_type": "code",
   "execution_count": 102,
   "id": "7b9bfe8f-194e-4ea7-862a-d6fb0d884faa",
   "metadata": {},
   "outputs": [
    {
     "name": "stdout",
     "output_type": "stream",
     "text": [
      "Content: Abstract1\n",
      "Metadata: {'Title': 'Paper1', 'Year': 2021, 'Source': 'Journal1'}\n",
      "\n",
      "Content: Abstract2\n",
      "Metadata: {'Title': 'Paper2', 'Year': 2022, 'Source': 'Journal2'}\n",
      "\n",
      "Content: Abstract3\n",
      "Metadata: {'Title': 'Paper3', 'Year': 2023, 'Source': 'Journal3'}\n",
      "\n"
     ]
    }
   ],
   "source": [
    "from langchain.document_loaders import DataFrameLoader\n",
    "\n",
    "# Sample DataFrame\n",
    "data = {\n",
    "    \"Title\": [\"Paper1\", \"Paper2\", \"Paper3\"],\n",
    "    \"Abstract\": [\"Abstract1\", \"Abstract2\", \"Abstract3\"],\n",
    "    \"Year\": [2021, 2022, 2023],\n",
    "    \"Source\": [\"Journal1\", \"Journal2\", \"Journal3\"]\n",
    "}\n",
    "df = pd.DataFrame(data)\n",
    "\n",
    "# Load documents with metadata\n",
    "loader = DataFrameLoader(\n",
    "    df.head(100),  # Use the first 100 rows\n",
    "    page_content_column=\"Abstract\",  # Use the \"Abstract\" column as the main content\n",
    "    # metadata_columns=[\"Title\", \"Year\", \"Source\"]  # Include these columns as metadata\n",
    ")\n",
    "\n",
    "docs = loader.load()\n",
    "\n",
    "# Inspect the documents\n",
    "for doc in docs:\n",
    "    print(\"Content:\", doc.page_content)\n",
    "    print(\"Metadata:\", doc.metadata)\n",
    "    print()"
   ]
  },
  {
   "cell_type": "code",
   "execution_count": null,
   "id": "1e26edb9-5de1-486e-aaaf-b9406a0e39ba",
   "metadata": {},
   "outputs": [],
   "source": []
  },
  {
   "cell_type": "code",
   "execution_count": null,
   "id": "c25225fd-600c-4cf6-8619-99160c296904",
   "metadata": {},
   "outputs": [],
   "source": []
  },
  {
   "cell_type": "code",
   "execution_count": null,
   "id": "1a217281-1ba4-47f9-bdc4-57e14f18a476",
   "metadata": {},
   "outputs": [],
   "source": []
  },
  {
   "cell_type": "code",
   "execution_count": null,
   "id": "c5e8ee49-f667-49a3-bd9d-96ccafbb8781",
   "metadata": {},
   "outputs": [],
   "source": []
  }
 ],
 "metadata": {
  "kernelspec": {
   "display_name": "Python [conda env:.conda-vllmenv]",
   "language": "python",
   "name": "conda-env-.conda-vllmenv-py"
  },
  "language_info": {
   "codemirror_mode": {
    "name": "ipython",
    "version": 3
   },
   "file_extension": ".py",
   "mimetype": "text/x-python",
   "name": "python",
   "nbconvert_exporter": "python",
   "pygments_lexer": "ipython3",
   "version": "3.12.8"
  }
 },
 "nbformat": 4,
 "nbformat_minor": 5
}
