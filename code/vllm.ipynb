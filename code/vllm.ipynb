{
 "cells": [
  {
   "cell_type": "markdown",
   "metadata": {
    "id": "2o60JINL_Gta"
   },
   "source": [
    "**Install [vLLM](https://docs.vllm.ai/en/latest/getting_started/quickstart.html) package**"
   ]
  },
  {
   "cell_type": "code",
   "execution_count": 1,
   "metadata": {
    "colab": {
     "base_uri": "https://localhost:8080/",
     "height": 1000
    },
    "id": "j4hROMu-_3I0",
    "outputId": "1aeaacc7-6f4e-4124-d614-66f7ab4efc99"
   },
   "outputs": [],
   "source": [
    "# !pip install vllm lm-format-enforcer"
   ]
  },
  {
   "cell_type": "markdown",
   "metadata": {
    "id": "aVW0y-F7_cEX"
   },
   "source": [
    "**Run vLLM server background using nohup. It can take a while for the first-time running, as it would download a model from Huggingface**"
   ]
  },
  {
   "cell_type": "code",
   "execution_count": 2,
   "metadata": {
    "colab": {
     "base_uri": "https://localhost:8080/"
    },
    "id": "Jf3esbRJ_Fww",
    "outputId": "692ea58d-4401-4775-fe32-e9189ad89518"
   },
   "outputs": [],
   "source": [
    "# !nohup vllm serve Qwen/Qwen2.5-1.5B-Instruct &"
   ]
  },
  {
   "cell_type": "code",
   "execution_count": 2,
   "metadata": {
    "colab": {
     "base_uri": "https://localhost:8080/"
    },
    "id": "eSnrxcg6_oH7",
    "outputId": "f12e716f-408b-46cd-f052-835ce47d82d8"
   },
   "outputs": [
    {
     "name": "stdout",
     "output_type": "stream",
     "text": [
      "<!DOCTYPE html>\n",
      "<html class=\"h-full\" lang=\"en-US\" dir=\"ltr\">\n",
      "  <head>\n",
      "    <link rel=\"preload\" href=\"https://cdn.ngrok.com/static/fonts/euclid-square/EuclidSquare-Regular-WebS.woff\" as=\"font\" type=\"font/woff\" crossorigin=\"anonymous\" />\n",
      "    <link rel=\"preload\" href=\"https://cdn.ngrok.com/static/fonts/euclid-square/EuclidSquare-RegularItalic-WebS.woff\" as=\"font\" type=\"font/woff\" crossorigin=\"anonymous\" />\n",
      "    <link rel=\"preload\" href=\"https://cdn.ngrok.com/static/fonts/euclid-square/EuclidSquare-Medium-WebS.woff\" as=\"font\" type=\"font/woff\" crossorigin=\"anonymous\" />\n",
      "    <link rel=\"preload\" href=\"https://cdn.ngrok.com/static/fonts/euclid-square/EuclidSquare-Semibold-WebS.woff\" as=\"font\" type=\"font/woff\" crossorigin=\"anonymous\" />\n",
      "    <link rel=\"preload\" href=\"https://cdn.ngrok.com/static/fonts/euclid-square/EuclidSquare-MediumItalic-WebS.woff\" as=\"font\" type=\"font/woff\" crossorigin=\"anonymous\" />\n",
      "    <link rel=\"preload\" href=\"https://cdn.ngrok.com/static/fonts/ibm-plex-mono/IBMPlexMono-Text.woff\" as=\"font\" type=\"font/woff\" crossorigin=\"anonymous\" />\n",
      "    <link rel=\"preload\" href=\"https://cdn.ngrok.com/static/fonts/ibm-plex-mono/IBMPlexMono-TextItalic.woff\" as=\"font\" type=\"font/woff\" crossorigin=\"anonymous\" />\n",
      "    <link rel=\"preload\" href=\"https://cdn.ngrok.com/static/fonts/ibm-plex-mono/IBMPlexMono-SemiBold.woff\" as=\"font\" type=\"font/woff\" crossorigin=\"anonymous\" />\n",
      "    <link rel=\"preload\" href=\"https://cdn.ngrok.com/static/fonts/ibm-plex-mono/IBMPlexMono-SemiBoldItalic.woff\" as=\"font\" type=\"font/woff\" crossorigin=\"anonymous\" />\n",
      "    <meta charset=\"utf-8\">\n",
      "    <meta name=\"author\" content=\"ngrok\">\n",
      "    <meta name=\"description\" content=\"ngrok is the fastest way to put anything on the internet with a single command.\">\n",
      "    <meta name=\"robots\" content=\"noindex, nofollow\">\n",
      "    <meta name=\"viewport\" content=\"width=device-width, initial-scale=1\">\n",
      "    <link id=\"style\" rel=\"stylesheet\" href=\"https://cdn.ngrok.com/static/css/error.css\">\n",
      "    <noscript>The endpoint 7323-193-61-202-14.ngrok-free.app is offline. (ERR_NGROK_3200)</noscript>\n",
      "    <script id=\"script\" src=\"https://cdn.ngrok.com/static/js/error.js\" type=\"text/javascript\"></script>\n",
      "  </head>\n",
      "  <body class=\"h-full\" id=\"ngrok\">\n",
      "    <div id=\"root\" data-payload=\"eyJjZG5CYXNlIjoiaHR0cHM6Ly9jZG4ubmdyb2suY29tLyIsImNvZGUiOiIzMjAwIiwibWVzc2FnZSI6IlRoZSBlbmRwb2ludCA3MzIzLTE5My02MS0yMDItMTQubmdyb2stZnJlZS5hcHAgaXMgb2ZmbGluZS4iLCJ0aXRsZSI6Ik5vdCBGb3VuZCJ9\"></div>\n",
      "  </body>\n",
      "</html>\n"
     ]
    }
   ],
   "source": [
    "# Test connection:\n",
    "!curl https://7323-193-61-202-14.ngrok-free.app/v1/models"
   ]
  },
  {
   "cell_type": "markdown",
   "metadata": {
    "id": "T_SEKmaOAIK_"
   },
   "source": [
    "**Install [ngrok](https://ngrok.com/) for explosing the local vLLM on a colab server to the Internet**"
   ]
  },
  {
   "cell_type": "code",
   "execution_count": 5,
   "metadata": {
    "colab": {
     "base_uri": "https://localhost:8080/"
    },
    "id": "-09Sct66_nTL",
    "outputId": "6372c522-0448-4c48-c648-bbae14649a01"
   },
   "outputs": [],
   "source": [
    "!curl -sSL https://ngrok-agent.s3.amazonaws.com/ngrok.asc \\\n",
    "\t| sudo tee /etc/apt/trusted.gpg.d/ngrok.asc >/dev/null \\\n",
    "\t&& echo \"deb https://ngrok-agent.s3.amazonaws.com buster main\" \\\n",
    "\t| sudo tee /etc/apt/sources.list.d/ngrok.list \\\n",
    "\t&& sudo apt update \\\n",
    "\t&& sudo apt install ngrok"
   ]
  },
  {
   "cell_type": "markdown",
   "metadata": {
    "id": "JLo_inSuB1r6"
   },
   "source": [
    "**Follow instruction on [Ngrok dashboard](https://dashboard.ngrok.com/get-started/setup/linux) to tunel a local server to the Internet**"
   ]
  },
  {
   "cell_type": "code",
   "execution_count": null,
   "metadata": {
    "colab": {
     "base_uri": "https://localhost:8080/"
    },
    "id": "oQjO1lS8BHoD",
    "outputId": "3c2f859d-57aa-4e2d-afa3-986f71eb32ef"
   },
   "outputs": [
    {
     "name": "stdout",
     "output_type": "stream",
     "text": [
      "Authtoken saved to configuration file: /root/.config/ngrok/ngrok.yml\n"
     ]
    }
   ],
   "source": [
    "# Replace your authtoken\n",
    "!ngrok config add-authtoken your_authtoken"
   ]
  },
  {
   "cell_type": "code",
   "execution_count": null,
   "metadata": {
    "id": "M7BXHuz7BQ0H"
   },
   "outputs": [],
   "source": [
    "# Tunel local server to a public URL on ngork\n",
    "!ngrok http http://localhost:8000 --log=stdout > ngrok.log &"
   ]
  },
  {
   "cell_type": "code",
   "execution_count": null,
   "metadata": {
    "colab": {
     "base_uri": "https://localhost:8080/"
    },
    "id": "Ph2koGU6BUjp",
    "outputId": "930b1021-de31-4e31-e2f7-62c67bab1b54"
   },
   "outputs": [
    {
     "name": "stdout",
     "output_type": "stream",
     "text": [
      "{\"object\":\"list\",\"data\":[{\"id\":\"Qwen/Qwen2.5-1.5B-Instruct\",\"object\":\"model\",\"created\":1737989912,\"owned_by\":\"vllm\",\"root\":\"Qwen/Qwen2.5-1.5B-Instruct\",\"parent\":null,\"max_model_len\":32768,\"permission\":[{\"id\":\"modelperm-dc43f971056b4738a6e7531715795990\",\"object\":\"model_permission\",\"created\":1737989912,\"allow_create_engine\":false,\"allow_sampling\":true,\"allow_logprobs\":true,\"allow_search_indices\":false,\"allow_view\":true,\"allow_fine_tuning\":false,\"organization\":\"*\",\"group\":null,\"is_blocking\":false}]}]}"
     ]
    }
   ],
   "source": [
    "!curl https://a1e4-193-61-202-14.ngrok-free.app/v1/models"
   ]
  },
  {
   "cell_type": "code",
   "execution_count": null,
   "metadata": {
    "colab": {
     "base_uri": "https://localhost:8080/"
    },
    "id": "OQaUi3wtlmQq",
    "outputId": "fd4148a6-7dd3-49ef-fac5-fab8bf9113ab"
   },
   "outputs": [
    {
     "name": "stdout",
     "output_type": "stream",
     "text": [
      "{\"object\":\"list\",\"data\":[{\"id\":\"deepseek-ai/DeepSeek-R1-Distill-Qwen-7B\",\"object\":\"model\",\"created\":1738330774,\"owned_by\":\"vllm\",\"root\":\"deepseek-ai/DeepSeek-R1-Distill-Qwen-7B\",\"parent\":null,\"max_model_len\":32768,\"permission\":[{\"id\":\"modelperm-ab2b9216bfa44899995a83b6b79e0688\",\"object\":\"model_permission\",\"created\":1738330774,\"allow_create_engine\":false,\"allow_sampling\":true,\"allow_logprobs\":true,\"allow_search_indices\":false,\"allow_view\":true,\"allow_fine_tuning\":false,\"organization\":\"*\",\"group\":null,\"is_blocking\":false}]}]}"
     ]
    }
   ],
   "source": [
    "!curl https://a1e4-193-61-202-14.ngrok-free.app/v1/models"
   ]
  },
  {
   "cell_type": "markdown",
   "metadata": {
    "id": "uXpLTLcguXLM"
   },
   "source": [
    "\n",
    "**Python: call APIs**"
   ]
  },
  {
   "cell_type": "code",
   "execution_count": null,
   "metadata": {
    "id": "Q5yWmF5bBMIV"
   },
   "outputs": [],
   "source": [
    "from openai import OpenAI\n",
    "from lmformatenforcer import JsonSchemaParser\n",
    "from pydantic import BaseModel\n",
    "from vllm.sampling_params import GuidedDecodingParams\n",
    "from vllm import SamplingParams\n",
    "\n",
    "# Modify OpenAI's API key and API base to use vLLM's API server.\n",
    "openai_api_key = \"EMPTY\"\n",
    "openai_api_base = \"https://a07e-35-197-151-225.ngrok-free.app/v1\"\n",
    "client = OpenAI(\n",
    "    api_key=openai_api_key,\n",
    "    base_url=openai_api_base,\n",
    ")"
   ]
  },
  {
   "cell_type": "markdown",
   "metadata": {
    "id": "HOK3tCmEVJb0"
   },
   "source": [
    "**Direct prompting**"
   ]
  },
  {
   "cell_type": "code",
   "execution_count": null,
   "metadata": {
    "colab": {
     "base_uri": "https://localhost:8080/"
    },
    "id": "ET8FM_oXYlL5",
    "outputId": "2fe16a1c-7c51-4988-dc27-17dccf6ff7d8"
   },
   "outputs": [
    {
     "name": "stdout",
     "output_type": "stream",
     "text": [
      "Chat response:  great city for luxury hotels, but we take pride in also being a place that\n"
     ]
    }
   ],
   "source": [
    "completion = client.completions.create(model=\"Qwen/Qwen2.5-1.5B-Instruct\",\n",
    "                                      prompt=\"San Francisco is a\")\n",
    "\n",
    "print(\"Chat response:\", completion.choices[0].text)\n"
   ]
  },
  {
   "cell_type": "markdown",
   "metadata": {
    "id": "jDUb8-hlVPT5"
   },
   "source": [
    "**Role-based prompting**"
   ]
  },
  {
   "cell_type": "code",
   "execution_count": null,
   "metadata": {
    "colab": {
     "base_uri": "https://localhost:8080/"
    },
    "id": "KC88p1DtR9F3",
    "outputId": "8fd63b40-a2e8-49df-cde0-b3f0662fc264"
   },
   "outputs": [
    {
     "name": "stdout",
     "output_type": "stream",
     "text": [
      "Chat response: Why did the tomato turn red?\n",
      "\n",
      "Because it saw the salad dressing!\n"
     ]
    }
   ],
   "source": [
    "chat_response = client.chat.completions.create(\n",
    "    model=\"Qwen/Qwen2.5-1.5B-Instruct\",\n",
    "    messages=[\n",
    "        {\"role\": \"system\", \"content\": \"You are a helpful assistant.\"},\n",
    "        {\"role\": \"user\", \"content\": \"Tell me a joke.\"},\n",
    "    ]\n",
    ")\n",
    "print(\"Chat response:\", chat_response.choices[0].message.content)"
   ]
  },
  {
   "cell_type": "markdown",
   "metadata": {
    "id": "KuTS2PsIZjaT"
   },
   "source": [
    "**Structured outputs**"
   ]
  },
  {
   "cell_type": "code",
   "execution_count": null,
   "metadata": {
    "colab": {
     "base_uri": "https://localhost:8080/"
    },
    "id": "wqlrX29nSaDM",
    "outputId": "ccda1ab5-d7f4-4070-ae26-c8bee48a9af6"
   },
   "outputs": [
    {
     "name": "stdout",
     "output_type": "stream",
     "text": [
      "{\n",
      "  \"cars\": [\n",
      "    {\n",
      "      \"brand\": \"Honda\",\n",
      "      \"model\": \"Civic\",\n",
      "      \"car_type\": \"sedan\"\n",
      "    },\n",
      "    {\n",
      "      \"brand\": \"Ford\",\n",
      "      \"model\": \"Mustang\",\n",
      "      \"car_type\": \"coupe\"\n",
      "    },\n",
      "    {\n",
      "      \"brand\": \"Toyota\",\n",
      "      \"model\": \"Corolla\",\n",
      "      \"car_type\": \"sedan\"\n",
      "    }\n",
      "  ]\n",
      "}\n"
     ]
    }
   ],
   "source": [
    "# Guided decoding by JSON using Pydantic schema\n",
    "class CarDescription(BaseModel):\n",
    "    brand: str\n",
    "    model: str\n",
    "    car_type: str\n",
    "\n",
    "class CarList(BaseModel):\n",
    "    cars: list[CarDescription]\n",
    "\n",
    "json_schema = CarList.model_json_schema()\n",
    "\n",
    "prompt = (\"Generate a JSON with the brand, model and car_type of\"\n",
    "          \"the most 3 iconic cars from the 90's\")\n",
    "completion = client.chat.completions.create(\n",
    "    model=\"Qwen/Qwen2.5-1.5B-Instruct\",\n",
    "    messages=[{\n",
    "        \"role\": \"user\",\n",
    "        \"content\": prompt,\n",
    "    }],\n",
    "    extra_body={\"guided_json\": json_schema},\n",
    ")\n",
    "print(completion.choices[0].message.content)"
   ]
  },
  {
   "cell_type": "markdown",
   "metadata": {
    "id": "N4Xt_I2wZe1w"
   },
   "source": [
    "**Set parameters**"
   ]
  },
  {
   "cell_type": "code",
   "execution_count": null,
   "metadata": {
    "colab": {
     "base_uri": "https://localhost:8080/"
    },
    "id": "whQgfcYcX-Bt",
    "outputId": "07753549-96d4-46cc-e6bb-aafe8527889d"
   },
   "outputs": [
    {
     "name": "stdout",
     "output_type": "stream",
     "text": [
      "Creative Chat response:\n",
      "  big city with 2700, 000 people. The population increases by 12% each year. How many more people will be in San Francisco in 3 years?\n",
      "\n",
      "To find out how many more people will be in San Francisco in 3 years, we need to calculate the population increase over those years, given the annual increase of 12%. We'll break this down into steps:\n",
      "\n",
      "1. Calculate the population each year for 3 years.\n",
      "2. Find\n",
      "Uncreative Chat response:\n",
      "  city in the state of California, in the United States. It is the capital and most populous city of the U.S. state of California. It is located on the Pacific coast of the United States, at the mouth of the San Francisco Bay. The city is the largest in the San Francisco Bay Area, the second-largest in California, and the 9th-largest city in the United States. San Francisco is the only major city in the United States to be built on a natural harbor. The\n"
     ]
    }
   ],
   "source": [
    "completion = client.completions.create(model=\"Qwen/Qwen2.5-1.5B-Instruct\",\n",
    "                                      prompt=\"San Francisco is a\",\n",
    "                                      max_tokens=100,\n",
    "                                      temperature=1  # Adjust temperature to control randomness\n",
    "                                      )\n",
    "\n",
    "print(\"Creative Chat response:\\n\", completion.choices[0].text)\n",
    "\n",
    "\n",
    "completion = client.completions.create(model=\"Qwen/Qwen2.5-1.5B-Instruct\",\n",
    "                                      prompt=\"San Francisco is a\",\n",
    "                                      max_tokens=100,\n",
    "                                      temperature=0  # Adjust temperature to control randomness\n",
    "                                      )\n",
    "\n",
    "print(\"Uncreative Chat response:\\n\", completion.choices[0].text)\n"
   ]
  },
  {
   "cell_type": "code",
   "execution_count": null,
   "metadata": {
    "colab": {
     "base_uri": "https://localhost:8080/"
    },
    "id": "uMHblacwy2jy",
    "outputId": "7a72d55d-4500-49dc-883a-ad2475bbeea4"
   },
   "outputs": [
    {
     "data": {
      "text/plain": [
       "4.261953955135773"
      ]
     },
     "execution_count": 2,
     "metadata": {},
     "output_type": "execute_result"
    }
   ],
   "source": [
    "288.79/8.47/8"
   ]
  },
  {
   "cell_type": "code",
   "execution_count": null,
   "metadata": {
    "id": "N6ByZfsxy7R_"
   },
   "outputs": [],
   "source": []
  },
  {
   "cell_type": "code",
   "execution_count": null,
   "metadata": {
    "id": "VdkxepenRaj1"
   },
   "outputs": [],
   "source": []
  }
 ],
 "metadata": {
  "colab": {
   "provenance": []
  },
  "kernelspec": {
   "display_name": "Python [conda env:.conda-vllmenv]",
   "language": "python",
   "name": "conda-env-.conda-vllmenv-py"
  },
  "language_info": {
   "codemirror_mode": {
    "name": "ipython",
    "version": 3
   },
   "file_extension": ".py",
   "mimetype": "text/x-python",
   "name": "python",
   "nbconvert_exporter": "python",
   "pygments_lexer": "ipython3",
   "version": "3.12.8"
  }
 },
 "nbformat": 4,
 "nbformat_minor": 4
}
